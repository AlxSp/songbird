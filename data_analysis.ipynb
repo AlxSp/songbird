{
 "cells": [
  {
   "cell_type": "code",
   "execution_count": 58,
   "metadata": {},
   "outputs": [],
   "source": [
    "import xenocanto\n",
    "import pandas as pd\n",
    "import numpy as np\n",
    "import os"
   ]
  },
  {
   "cell_type": "code",
   "execution_count": 59,
   "metadata": {},
   "outputs": [],
   "source": [
    "species_path = os.path.join(\"dataset\",'species_info.csv') \n",
    "species_info_df = pd.read_csv(species_path)"
   ]
  },
  {
   "cell_type": "markdown",
   "metadata": {},
   "source": [
    "Drop species which were recorded less than the rec_min"
   ]
  },
  {
   "cell_type": "code",
   "execution_count": 60,
   "metadata": {},
   "outputs": [
    {
     "output_type": "stream",
     "name": "stdout",
     "text": "Total number of species: 10963\nNumber of species meeting min: 312\n"
    }
   ],
   "source": [
    "rec_min = 250\n",
    "\n",
    "print(\"Total number of species:\", len(species_info_df))\n",
    "\n",
    "min_species_info_df = species_info_df[species_info_df['forefront recs'] > rec_min]\n",
    "\n",
    "print(\"Number of species meeting min:\", len(min_species_info_df))"
   ]
  },
  {
   "cell_type": "code",
   "execution_count": 61,
   "metadata": {},
   "outputs": [
    {
     "output_type": "execute_result",
     "data": {
      "text/plain": "                        common name         scientific name  extinct  \\\n23                  Little Tinamou       Crypturellus soui     False   \n76                    Canada Goose       Branta canadensis     False   \n83                   Greylag Goose             Anser anser     False   \n88     Greater White-fronted Goose         Anser albifrons     False   \n93                       Mute Swan             Cygnus olor     False   \n...                             ...                     ...      ...   \n10498            Northern Cardinal   Cardinalis cardinalis     False   \n10811       Slate-colored Grosbeak        Saltator grossus     False   \n10814       Buff-throated Saltator        Saltator maximus     False   \n10817             Greyish Saltator   Saltator coerulescens     False   \n10872                   Bananaquit        Coereba flaveola     False   \n\n       forefront recs  background recs  africa  americas   asia  australasia  \\\n23                317              432   False      True  False        False   \n76                363              964   False      True   True         True   \n83                475             1378    True      True   True         True   \n88                257              116    True      True   True        False   \n93                272              112    True      True   True         True   \n...               ...              ...     ...       ...    ...          ...   \n10498             593             2477   False      True  False        False   \n10811             257              466   False      True  False        False   \n10814             260              384   False      True  False        False   \n10817             374              556   False      True  False        False   \n10872             487              712   False      True  False        False   \n\n       europe  \n23      False  \n76       True  \n83       True  \n88       True  \n93       True  \n...       ...  \n10498   False  \n10811   False  \n10814   False  \n10817   False  \n10872   False  \n\n[312 rows x 10 columns]",
      "text/html": "<div>\n<style scoped>\n    .dataframe tbody tr th:only-of-type {\n        vertical-align: middle;\n    }\n\n    .dataframe tbody tr th {\n        vertical-align: top;\n    }\n\n    .dataframe thead th {\n        text-align: right;\n    }\n</style>\n<table border=\"1\" class=\"dataframe\">\n  <thead>\n    <tr style=\"text-align: right;\">\n      <th></th>\n      <th>common name</th>\n      <th>scientific name</th>\n      <th>extinct</th>\n      <th>forefront recs</th>\n      <th>background recs</th>\n      <th>africa</th>\n      <th>americas</th>\n      <th>asia</th>\n      <th>australasia</th>\n      <th>europe</th>\n    </tr>\n  </thead>\n  <tbody>\n    <tr>\n      <th>23</th>\n      <td>Little Tinamou</td>\n      <td>Crypturellus soui</td>\n      <td>False</td>\n      <td>317</td>\n      <td>432</td>\n      <td>False</td>\n      <td>True</td>\n      <td>False</td>\n      <td>False</td>\n      <td>False</td>\n    </tr>\n    <tr>\n      <th>76</th>\n      <td>Canada Goose</td>\n      <td>Branta canadensis</td>\n      <td>False</td>\n      <td>363</td>\n      <td>964</td>\n      <td>False</td>\n      <td>True</td>\n      <td>True</td>\n      <td>True</td>\n      <td>True</td>\n    </tr>\n    <tr>\n      <th>83</th>\n      <td>Greylag Goose</td>\n      <td>Anser anser</td>\n      <td>False</td>\n      <td>475</td>\n      <td>1378</td>\n      <td>True</td>\n      <td>True</td>\n      <td>True</td>\n      <td>True</td>\n      <td>True</td>\n    </tr>\n    <tr>\n      <th>88</th>\n      <td>Greater White-fronted Goose</td>\n      <td>Anser albifrons</td>\n      <td>False</td>\n      <td>257</td>\n      <td>116</td>\n      <td>True</td>\n      <td>True</td>\n      <td>True</td>\n      <td>False</td>\n      <td>True</td>\n    </tr>\n    <tr>\n      <th>93</th>\n      <td>Mute Swan</td>\n      <td>Cygnus olor</td>\n      <td>False</td>\n      <td>272</td>\n      <td>112</td>\n      <td>True</td>\n      <td>True</td>\n      <td>True</td>\n      <td>True</td>\n      <td>True</td>\n    </tr>\n    <tr>\n      <th>...</th>\n      <td>...</td>\n      <td>...</td>\n      <td>...</td>\n      <td>...</td>\n      <td>...</td>\n      <td>...</td>\n      <td>...</td>\n      <td>...</td>\n      <td>...</td>\n      <td>...</td>\n    </tr>\n    <tr>\n      <th>10498</th>\n      <td>Northern Cardinal</td>\n      <td>Cardinalis cardinalis</td>\n      <td>False</td>\n      <td>593</td>\n      <td>2477</td>\n      <td>False</td>\n      <td>True</td>\n      <td>False</td>\n      <td>False</td>\n      <td>False</td>\n    </tr>\n    <tr>\n      <th>10811</th>\n      <td>Slate-colored Grosbeak</td>\n      <td>Saltator grossus</td>\n      <td>False</td>\n      <td>257</td>\n      <td>466</td>\n      <td>False</td>\n      <td>True</td>\n      <td>False</td>\n      <td>False</td>\n      <td>False</td>\n    </tr>\n    <tr>\n      <th>10814</th>\n      <td>Buff-throated Saltator</td>\n      <td>Saltator maximus</td>\n      <td>False</td>\n      <td>260</td>\n      <td>384</td>\n      <td>False</td>\n      <td>True</td>\n      <td>False</td>\n      <td>False</td>\n      <td>False</td>\n    </tr>\n    <tr>\n      <th>10817</th>\n      <td>Greyish Saltator</td>\n      <td>Saltator coerulescens</td>\n      <td>False</td>\n      <td>374</td>\n      <td>556</td>\n      <td>False</td>\n      <td>True</td>\n      <td>False</td>\n      <td>False</td>\n      <td>False</td>\n    </tr>\n    <tr>\n      <th>10872</th>\n      <td>Bananaquit</td>\n      <td>Coereba flaveola</td>\n      <td>False</td>\n      <td>487</td>\n      <td>712</td>\n      <td>False</td>\n      <td>True</td>\n      <td>False</td>\n      <td>False</td>\n      <td>False</td>\n    </tr>\n  </tbody>\n</table>\n<p>312 rows × 10 columns</p>\n</div>"
     },
     "metadata": {},
     "execution_count": 61
    }
   ],
   "source": [
    "min_species_info_df"
   ]
  },
  {
   "cell_type": "code",
   "execution_count": 62,
   "metadata": {},
   "outputs": [],
   "source": [
    "xenocanto.download('bearded+bellbird+q:A')"
   ]
  },
  {
   "cell_type": "markdown",
   "metadata": {},
   "source": [
    "# Using gbif dataset"
   ]
  },
  {
   "cell_type": "code",
   "execution_count": 63,
   "metadata": {},
   "outputs": [],
   "source": [
    "gbif_path = 'gbif_xeno_canto'\n",
    "\n",
    "occurrence_df = pd.read_csv(os.path.join(gbif_path, 'occurrence.txt'), sep = '\\t')"
   ]
  },
  {
   "cell_type": "code",
   "execution_count": 52,
   "metadata": {},
   "outputs": [
    {
     "output_type": "execute_result",
     "data": {
      "text/plain": "Index(['gbifID', 'abstract', 'accessRights', 'accrualMethod',\n       'accrualPeriodicity', 'accrualPolicy', 'alternative', 'audience',\n       'available', 'bibliographicCitation',\n       ...\n       'acceptedScientificName', 'verbatimScientificName', 'typifiedName',\n       'protocol', 'lastParsed', 'lastCrawled', 'repatriated',\n       'relativeOrganismQuantity', 'recordedByID', 'identifiedByID'],\n      dtype='object', length=241)"
     },
     "metadata": {},
     "execution_count": 52
    }
   ],
   "source": [
    "occurrence_df.columns"
   ]
  },
  {
   "cell_type": "code",
   "execution_count": 54,
   "metadata": {},
   "outputs": [
    {
     "output_type": "execute_result",
     "data": {
      "text/plain": "gbifID                           0\nabstract                    435578\naccessRights                435578\naccrualMethod               435578\naccrualPeriodicity          435578\n                             ...  \nlastCrawled                      5\nrepatriated                      5\nrelativeOrganismQuantity    435578\nrecordedByID                435578\nidentifiedByID              435578\nLength: 241, dtype: int64"
     },
     "metadata": {},
     "execution_count": 54
    }
   ],
   "source": [
    "occurrence_df.isnull().sum()"
   ]
  },
  {
   "cell_type": "markdown",
   "metadata": {},
   "source": [
    "Drop all columns that do not have any values"
   ]
  },
  {
   "cell_type": "code",
   "execution_count": 55,
   "metadata": {},
   "outputs": [
    {
     "output_type": "stream",
     "name": "stdout",
     "text": "Columns with no values: ['abstract', 'accessRights', 'accrualMethod', 'accrualPeriodicity', 'accrualPolicy', 'alternative', 'audience', 'available', 'bibliographicCitation', 'conformsTo', 'contributor', 'coverage', 'created', 'creator', 'date', 'dateAccepted', 'dateCopyrighted', 'dateSubmitted', 'description', 'educationLevel', 'extent', 'format', 'hasFormat', 'hasPart', 'hasVersion', 'instructionalMethod', 'isFormatOf', 'isPartOf', 'isReferencedBy', 'isReplacedBy', 'isRequiredBy', 'isVersionOf', 'issued', 'language', 'mediator', 'medium', 'modified', 'provenance', 'relation', 'replaces', 'requires', 'rights', 'source', 'spatial', 'subject', 'tableOfContents', 'temporal', 'title', 'type', 'valid', 'institutionID', 'collectionID', 'datasetID', 'institutionCode', 'ownerInstitutionCode', 'informationWithheld', 'dataGeneralizations', 'dynamicProperties', 'recordNumber', 'individualCount', 'organismQuantity', 'organismQuantityType', 'sex', 'lifeStage', 'reproductiveCondition', 'establishmentMeans', 'occurrenceStatus', 'preparations', 'disposition', 'associatedReferences', 'associatedSequences', 'otherCatalogNumbers', 'organismID', 'organismName', 'organismScope', 'associatedOrganisms', 'organismRemarks', 'materialSampleID', 'eventID', 'parentEventID', 'fieldNumber', 'startDayOfYear', 'endDayOfYear', 'habitat', 'samplingProtocol', 'samplingEffort', 'sampleSizeValue', 'sampleSizeUnit', 'eventRemarks', 'locationID', 'higherGeographyID', 'higherGeography', 'continent', 'waterBody', 'islandGroup', 'island', 'stateProvince', 'county', 'municipality', 'verbatimLocality', 'verbatimDepth', 'minimumDistanceAboveSurfaceInMeters', 'maximumDistanceAboveSurfaceInMeters', 'locationAccordingTo', 'locationRemarks', 'coordinateUncertaintyInMeters', 'coordinatePrecision', 'pointRadiusSpatialFit', 'verbatimCoordinateSystem', 'verbatimSRS', 'footprintWKT', 'footprintSRS', 'footprintSpatialFit', 'georeferencedDate', 'georeferenceProtocol', 'georeferenceSources', 'georeferenceVerificationStatus', 'georeferenceRemarks', 'earliestEonOrLowestEonothem', 'latestEonOrHighestEonothem', 'earliestEraOrLowestErathem', 'latestEraOrHighestErathem', 'earliestPeriodOrLowestSystem', 'latestPeriodOrHighestSystem', 'group', 'member', 'identificationID', 'dateIdentified', 'identificationReferences', 'scientificNameID', 'parentNameUsageID', 'originalNameUsageID', 'nameAccordingToID', 'namePublishedInID', 'nomenclaturalStatus', 'taxonRemarks', 'elevation', 'elevationAccuracy', 'depth', 'depthAccuracy', 'distanceAboveSurface', 'distanceAboveSurfaceAccuracy', 'subgenusKey', 'typifiedName', 'relativeOrganismQuantity', 'recordedByID', 'identifiedByID']\n"
    }
   ],
   "source": [
    "occurrence_columns_with_no_values = []\n",
    "\n",
    "for column in occurrence_df.columns:\n",
    "    if occurrence_df[column].isnull().all():\n",
    "        occurrence_columns_with_no_values.append(column)\n",
    "\n",
    "print(\"Columns with no values:\", occurrence_columns_with_no_values)\n",
    "\n",
    "occurrence_df = occurrence_df.drop(occurrence_columns_with_no_values, axis=1)"
   ]
  },
  {
   "cell_type": "markdown",
   "metadata": {},
   "source": [
    "List all columns with a single value"
   ]
  },
  {
   "cell_type": "code",
   "execution_count": 57,
   "metadata": {},
   "outputs": [
    {
     "output_type": "stream",
     "name": "stdout",
     "text": "Columns with only one value: []\n"
    }
   ],
   "source": [
    "occurrence_columns_with_one_value = []\n",
    "\n",
    "for column in occurrence_df.columns:\n",
    "    if occurrence_df[column].unique().size == 1:\n",
    "        occurrence_columns_with_one_value.append(column)\n",
    "\n",
    "print(\"Columns with only one value:\", occurrence_columns_with_one_value)\n",
    "\n",
    "occurrence_df = occurrence_df.drop(occurrence_columns_with_one_value, axis=1)\n",
    "\n"
   ]
  },
  {
   "cell_type": "code",
   "execution_count": 50,
   "metadata": {},
   "outputs": [
    {
     "output_type": "execute_result",
     "data": {
      "text/plain": "            gbifID identifier  \\\n0       2432439881  485806@XC   \n1       2432440798  485824@XC   \n2       2432439707  485842@XC   \n3       2432440942  485860@XC   \n4       2432440206  485879@XC   \n...            ...        ...   \n435573  2432439860  485707@XC   \n435574  2432439243  485725@XC   \n435575  2432439694  485743@XC   \n435576  2432439085  485761@XC   \n435577  2432439499  485798@XC   \n\n                                               references     rightsHolder  \\\n0       https://data.biodiversitydata.nl/xeno-canto/ob...  Stanislas Wroza   \n1       https://data.biodiversitydata.nl/xeno-canto/ob...  Stanislas Wroza   \n2       https://data.biodiversitydata.nl/xeno-canto/ob...  Stanislas Wroza   \n3       https://data.biodiversitydata.nl/xeno-canto/ob...  Stanislas Wroza   \n4       https://data.biodiversitydata.nl/xeno-canto/ob...  Stanislas Wroza   \n...                                                   ...              ...   \n435573  https://data.biodiversitydata.nl/xeno-canto/ob...  Stanislas Wroza   \n435574  https://data.biodiversitydata.nl/xeno-canto/ob...  Stanislas Wroza   \n435575  https://data.biodiversitydata.nl/xeno-canto/ob...  Stanislas Wroza   \n435576  https://data.biodiversitydata.nl/xeno-canto/ob...  Stanislas Wroza   \n435577  https://data.biodiversitydata.nl/xeno-canto/ob...  Stanislas Wroza   \n\n                                             occurrenceID catalogNumber  \\\n0       https://data.biodiversitydata.nl/xeno-canto/ob...      XC485806   \n1       https://data.biodiversitydata.nl/xeno-canto/ob...      XC485824   \n2       https://data.biodiversitydata.nl/xeno-canto/ob...      XC485842   \n3       https://data.biodiversitydata.nl/xeno-canto/ob...      XC485860   \n4       https://data.biodiversitydata.nl/xeno-canto/ob...      XC485879   \n...                                                   ...           ...   \n435573  https://data.biodiversitydata.nl/xeno-canto/ob...      XC485707   \n435574  https://data.biodiversitydata.nl/xeno-canto/ob...      XC485725   \n435575  https://data.biodiversitydata.nl/xeno-canto/ob...      XC485743   \n435576  https://data.biodiversitydata.nl/xeno-canto/ob...      XC485761   \n435577  https://data.biodiversitydata.nl/xeno-canto/ob...      XC485798   \n\n             recordedBy                behavior associatedTaxa  \\\n0       Stanislas Wroza                    song            NaN   \n1       Stanislas Wroza              alarm call            NaN   \n2       Stanislas Wroza              call, song            NaN   \n3       Stanislas Wroza  begging call, juvenile            NaN   \n4       Stanislas Wroza             flight call            NaN   \n...                 ...                     ...            ...   \n435573  Stanislas Wroza           display, song            NaN   \n435574  Stanislas Wroza             flight call            NaN   \n435575  Stanislas Wroza             flight call            NaN   \n435576  Stanislas Wroza             flight call            NaN   \n435577  Stanislas Wroza             flight call            NaN   \n\n       occurrenceRemarks  ...   genusKey speciesKey                 species  \\\n0                    NaN  ...  5429330.0  2492537.0       Luscinia calliope   \n1                    NaN  ...  2490241.0  2490244.0         Anthus hodgsoni   \n2                    NaN  ...  2493047.0  2493071.0   Phylloscopus borealis   \n3                    NaN  ...  5429347.0  5231223.0    Phoenicurus auroreus   \n4                    NaN  ...  2494150.0  9629160.0       Loxia curvirostra   \n...                  ...  ...        ...        ...                     ...   \n435573               NaN  ...  2481808.0  2481819.0     Gallinago gallinago   \n435574               NaN  ...  2491468.0  2491472.0  Emberiza leucocephalos   \n435575               NaN  ...  2492321.0  5231198.0         Passer montanus   \n435576               NaN  ...  2490241.0  2490244.0         Anthus hodgsoni   \n435577               NaN  ...  2491468.0  2491530.0    Emberiza chrysophrys   \n\n         genericName                     acceptedScientificName  \\\n0           Calliope           Luscinia calliope (Pallas, 1776)   \n1             Anthus             Anthus hodgsoni Richmond, 1907   \n2       Phylloscopus  Phylloscopus borealis (J.H.Blasius, 1858)   \n3        Phoenicurus        Phoenicurus auroreus (Pallas, 1776)   \n4              Loxia           Loxia curvirostra Linnaeus, 1758   \n...              ...                                        ...   \n435573     Gallinago       Gallinago gallinago (Linnaeus, 1758)   \n435574      Emberiza    Emberiza leucocephalos S.G.Gmelin, 1771   \n435575        Passer           Passer montanus (Linnaeus, 1758)   \n435576        Anthus             Anthus hodgsoni Richmond, 1907   \n435577      Emberiza          Emberiza chrysophrys Pallas, 1776   \n\n          verbatimScientificName     protocol                lastParsed  \\\n0              Calliope calliope  DWC_ARCHIVE  2020-06-08T17:16:09.759Z   \n1                Anthus hodgsoni  DWC_ARCHIVE  2020-06-08T17:16:09.759Z   \n2          Phylloscopus borealis  DWC_ARCHIVE  2020-06-08T17:16:09.759Z   \n3           Phoenicurus auroreus  DWC_ARCHIVE  2020-06-08T17:16:09.759Z   \n4       Loxia curvirostra N4, N8  DWC_ARCHIVE  2020-06-08T17:16:09.759Z   \n...                          ...          ...                       ...   \n435573       Gallinago gallinago  DWC_ARCHIVE  2020-06-08T17:16:09.759Z   \n435574    Emberiza leucocephalos  DWC_ARCHIVE  2020-06-08T17:16:09.759Z   \n435575           Passer montanus  DWC_ARCHIVE  2020-06-08T17:16:09.759Z   \n435576           Anthus hodgsoni  DWC_ARCHIVE  2020-06-08T17:16:09.759Z   \n435577      Emberiza chrysophrys  DWC_ARCHIVE  2020-06-08T17:16:09.759Z   \n\n                     lastCrawled repatriated  \n0       2020-06-02T09:48:40.848Z        True  \n1       2020-06-02T09:48:40.848Z        True  \n2       2020-06-02T09:48:40.848Z        True  \n3       2020-06-02T09:48:40.848Z        True  \n4       2020-06-02T09:48:40.848Z        True  \n...                          ...         ...  \n435573  2020-06-02T09:48:40.848Z        True  \n435574  2020-06-02T09:48:40.848Z        True  \n435575  2020-06-02T09:48:40.848Z        True  \n435576  2020-06-02T09:48:40.848Z        True  \n435577  2020-06-02T09:48:40.848Z        True  \n\n[435578 rows x 89 columns]",
      "text/html": "<div>\n<style scoped>\n    .dataframe tbody tr th:only-of-type {\n        vertical-align: middle;\n    }\n\n    .dataframe tbody tr th {\n        vertical-align: top;\n    }\n\n    .dataframe thead th {\n        text-align: right;\n    }\n</style>\n<table border=\"1\" class=\"dataframe\">\n  <thead>\n    <tr style=\"text-align: right;\">\n      <th></th>\n      <th>gbifID</th>\n      <th>identifier</th>\n      <th>references</th>\n      <th>rightsHolder</th>\n      <th>occurrenceID</th>\n      <th>catalogNumber</th>\n      <th>recordedBy</th>\n      <th>behavior</th>\n      <th>associatedTaxa</th>\n      <th>occurrenceRemarks</th>\n      <th>...</th>\n      <th>genusKey</th>\n      <th>speciesKey</th>\n      <th>species</th>\n      <th>genericName</th>\n      <th>acceptedScientificName</th>\n      <th>verbatimScientificName</th>\n      <th>protocol</th>\n      <th>lastParsed</th>\n      <th>lastCrawled</th>\n      <th>repatriated</th>\n    </tr>\n  </thead>\n  <tbody>\n    <tr>\n      <th>0</th>\n      <td>2432439881</td>\n      <td>485806@XC</td>\n      <td>https://data.biodiversitydata.nl/xeno-canto/ob...</td>\n      <td>Stanislas Wroza</td>\n      <td>https://data.biodiversitydata.nl/xeno-canto/ob...</td>\n      <td>XC485806</td>\n      <td>Stanislas Wroza</td>\n      <td>song</td>\n      <td>NaN</td>\n      <td>NaN</td>\n      <td>...</td>\n      <td>5429330.0</td>\n      <td>2492537.0</td>\n      <td>Luscinia calliope</td>\n      <td>Calliope</td>\n      <td>Luscinia calliope (Pallas, 1776)</td>\n      <td>Calliope calliope</td>\n      <td>DWC_ARCHIVE</td>\n      <td>2020-06-08T17:16:09.759Z</td>\n      <td>2020-06-02T09:48:40.848Z</td>\n      <td>True</td>\n    </tr>\n    <tr>\n      <th>1</th>\n      <td>2432440798</td>\n      <td>485824@XC</td>\n      <td>https://data.biodiversitydata.nl/xeno-canto/ob...</td>\n      <td>Stanislas Wroza</td>\n      <td>https://data.biodiversitydata.nl/xeno-canto/ob...</td>\n      <td>XC485824</td>\n      <td>Stanislas Wroza</td>\n      <td>alarm call</td>\n      <td>NaN</td>\n      <td>NaN</td>\n      <td>...</td>\n      <td>2490241.0</td>\n      <td>2490244.0</td>\n      <td>Anthus hodgsoni</td>\n      <td>Anthus</td>\n      <td>Anthus hodgsoni Richmond, 1907</td>\n      <td>Anthus hodgsoni</td>\n      <td>DWC_ARCHIVE</td>\n      <td>2020-06-08T17:16:09.759Z</td>\n      <td>2020-06-02T09:48:40.848Z</td>\n      <td>True</td>\n    </tr>\n    <tr>\n      <th>2</th>\n      <td>2432439707</td>\n      <td>485842@XC</td>\n      <td>https://data.biodiversitydata.nl/xeno-canto/ob...</td>\n      <td>Stanislas Wroza</td>\n      <td>https://data.biodiversitydata.nl/xeno-canto/ob...</td>\n      <td>XC485842</td>\n      <td>Stanislas Wroza</td>\n      <td>call, song</td>\n      <td>NaN</td>\n      <td>NaN</td>\n      <td>...</td>\n      <td>2493047.0</td>\n      <td>2493071.0</td>\n      <td>Phylloscopus borealis</td>\n      <td>Phylloscopus</td>\n      <td>Phylloscopus borealis (J.H.Blasius, 1858)</td>\n      <td>Phylloscopus borealis</td>\n      <td>DWC_ARCHIVE</td>\n      <td>2020-06-08T17:16:09.759Z</td>\n      <td>2020-06-02T09:48:40.848Z</td>\n      <td>True</td>\n    </tr>\n    <tr>\n      <th>3</th>\n      <td>2432440942</td>\n      <td>485860@XC</td>\n      <td>https://data.biodiversitydata.nl/xeno-canto/ob...</td>\n      <td>Stanislas Wroza</td>\n      <td>https://data.biodiversitydata.nl/xeno-canto/ob...</td>\n      <td>XC485860</td>\n      <td>Stanislas Wroza</td>\n      <td>begging call, juvenile</td>\n      <td>NaN</td>\n      <td>NaN</td>\n      <td>...</td>\n      <td>5429347.0</td>\n      <td>5231223.0</td>\n      <td>Phoenicurus auroreus</td>\n      <td>Phoenicurus</td>\n      <td>Phoenicurus auroreus (Pallas, 1776)</td>\n      <td>Phoenicurus auroreus</td>\n      <td>DWC_ARCHIVE</td>\n      <td>2020-06-08T17:16:09.759Z</td>\n      <td>2020-06-02T09:48:40.848Z</td>\n      <td>True</td>\n    </tr>\n    <tr>\n      <th>4</th>\n      <td>2432440206</td>\n      <td>485879@XC</td>\n      <td>https://data.biodiversitydata.nl/xeno-canto/ob...</td>\n      <td>Stanislas Wroza</td>\n      <td>https://data.biodiversitydata.nl/xeno-canto/ob...</td>\n      <td>XC485879</td>\n      <td>Stanislas Wroza</td>\n      <td>flight call</td>\n      <td>NaN</td>\n      <td>NaN</td>\n      <td>...</td>\n      <td>2494150.0</td>\n      <td>9629160.0</td>\n      <td>Loxia curvirostra</td>\n      <td>Loxia</td>\n      <td>Loxia curvirostra Linnaeus, 1758</td>\n      <td>Loxia curvirostra N4, N8</td>\n      <td>DWC_ARCHIVE</td>\n      <td>2020-06-08T17:16:09.759Z</td>\n      <td>2020-06-02T09:48:40.848Z</td>\n      <td>True</td>\n    </tr>\n    <tr>\n      <th>...</th>\n      <td>...</td>\n      <td>...</td>\n      <td>...</td>\n      <td>...</td>\n      <td>...</td>\n      <td>...</td>\n      <td>...</td>\n      <td>...</td>\n      <td>...</td>\n      <td>...</td>\n      <td>...</td>\n      <td>...</td>\n      <td>...</td>\n      <td>...</td>\n      <td>...</td>\n      <td>...</td>\n      <td>...</td>\n      <td>...</td>\n      <td>...</td>\n      <td>...</td>\n      <td>...</td>\n    </tr>\n    <tr>\n      <th>435573</th>\n      <td>2432439860</td>\n      <td>485707@XC</td>\n      <td>https://data.biodiversitydata.nl/xeno-canto/ob...</td>\n      <td>Stanislas Wroza</td>\n      <td>https://data.biodiversitydata.nl/xeno-canto/ob...</td>\n      <td>XC485707</td>\n      <td>Stanislas Wroza</td>\n      <td>display, song</td>\n      <td>NaN</td>\n      <td>NaN</td>\n      <td>...</td>\n      <td>2481808.0</td>\n      <td>2481819.0</td>\n      <td>Gallinago gallinago</td>\n      <td>Gallinago</td>\n      <td>Gallinago gallinago (Linnaeus, 1758)</td>\n      <td>Gallinago gallinago</td>\n      <td>DWC_ARCHIVE</td>\n      <td>2020-06-08T17:16:09.759Z</td>\n      <td>2020-06-02T09:48:40.848Z</td>\n      <td>True</td>\n    </tr>\n    <tr>\n      <th>435574</th>\n      <td>2432439243</td>\n      <td>485725@XC</td>\n      <td>https://data.biodiversitydata.nl/xeno-canto/ob...</td>\n      <td>Stanislas Wroza</td>\n      <td>https://data.biodiversitydata.nl/xeno-canto/ob...</td>\n      <td>XC485725</td>\n      <td>Stanislas Wroza</td>\n      <td>flight call</td>\n      <td>NaN</td>\n      <td>NaN</td>\n      <td>...</td>\n      <td>2491468.0</td>\n      <td>2491472.0</td>\n      <td>Emberiza leucocephalos</td>\n      <td>Emberiza</td>\n      <td>Emberiza leucocephalos S.G.Gmelin, 1771</td>\n      <td>Emberiza leucocephalos</td>\n      <td>DWC_ARCHIVE</td>\n      <td>2020-06-08T17:16:09.759Z</td>\n      <td>2020-06-02T09:48:40.848Z</td>\n      <td>True</td>\n    </tr>\n    <tr>\n      <th>435575</th>\n      <td>2432439694</td>\n      <td>485743@XC</td>\n      <td>https://data.biodiversitydata.nl/xeno-canto/ob...</td>\n      <td>Stanislas Wroza</td>\n      <td>https://data.biodiversitydata.nl/xeno-canto/ob...</td>\n      <td>XC485743</td>\n      <td>Stanislas Wroza</td>\n      <td>flight call</td>\n      <td>NaN</td>\n      <td>NaN</td>\n      <td>...</td>\n      <td>2492321.0</td>\n      <td>5231198.0</td>\n      <td>Passer montanus</td>\n      <td>Passer</td>\n      <td>Passer montanus (Linnaeus, 1758)</td>\n      <td>Passer montanus</td>\n      <td>DWC_ARCHIVE</td>\n      <td>2020-06-08T17:16:09.759Z</td>\n      <td>2020-06-02T09:48:40.848Z</td>\n      <td>True</td>\n    </tr>\n    <tr>\n      <th>435576</th>\n      <td>2432439085</td>\n      <td>485761@XC</td>\n      <td>https://data.biodiversitydata.nl/xeno-canto/ob...</td>\n      <td>Stanislas Wroza</td>\n      <td>https://data.biodiversitydata.nl/xeno-canto/ob...</td>\n      <td>XC485761</td>\n      <td>Stanislas Wroza</td>\n      <td>flight call</td>\n      <td>NaN</td>\n      <td>NaN</td>\n      <td>...</td>\n      <td>2490241.0</td>\n      <td>2490244.0</td>\n      <td>Anthus hodgsoni</td>\n      <td>Anthus</td>\n      <td>Anthus hodgsoni Richmond, 1907</td>\n      <td>Anthus hodgsoni</td>\n      <td>DWC_ARCHIVE</td>\n      <td>2020-06-08T17:16:09.759Z</td>\n      <td>2020-06-02T09:48:40.848Z</td>\n      <td>True</td>\n    </tr>\n    <tr>\n      <th>435577</th>\n      <td>2432439499</td>\n      <td>485798@XC</td>\n      <td>https://data.biodiversitydata.nl/xeno-canto/ob...</td>\n      <td>Stanislas Wroza</td>\n      <td>https://data.biodiversitydata.nl/xeno-canto/ob...</td>\n      <td>XC485798</td>\n      <td>Stanislas Wroza</td>\n      <td>flight call</td>\n      <td>NaN</td>\n      <td>NaN</td>\n      <td>...</td>\n      <td>2491468.0</td>\n      <td>2491530.0</td>\n      <td>Emberiza chrysophrys</td>\n      <td>Emberiza</td>\n      <td>Emberiza chrysophrys Pallas, 1776</td>\n      <td>Emberiza chrysophrys</td>\n      <td>DWC_ARCHIVE</td>\n      <td>2020-06-08T17:16:09.759Z</td>\n      <td>2020-06-02T09:48:40.848Z</td>\n      <td>True</td>\n    </tr>\n  </tbody>\n</table>\n<p>435578 rows × 89 columns</p>\n</div>"
     },
     "metadata": {},
     "execution_count": 50
    }
   ],
   "source": [
    "occurrence_df"
   ]
  },
  {
   "cell_type": "code",
   "execution_count": 8,
   "metadata": {},
   "outputs": [],
   "source": [
    "verbatim_df = pd.read_csv(os.path.join(gbif_path, 'verbatim.txt'), sep = '\\t')\n"
   ]
  },
  {
   "cell_type": "code",
   "execution_count": 35,
   "metadata": {},
   "outputs": [
    {
     "output_type": "execute_result",
     "data": {
      "text/plain": "            gbifID  abstract  accessRights  accrualMethod  accrualPeriodicity  \\\n0       2432439881       NaN           NaN            NaN                 NaN   \n1       2432440798       NaN           NaN            NaN                 NaN   \n2       2432439707       NaN           NaN            NaN                 NaN   \n3       2432440942       NaN           NaN            NaN                 NaN   \n4       2432440206       NaN           NaN            NaN                 NaN   \n...            ...       ...           ...            ...                 ...   \n435573  2432439860       NaN           NaN            NaN                 NaN   \n435574  2432439243       NaN           NaN            NaN                 NaN   \n435575  2432439694       NaN           NaN            NaN                 NaN   \n435576  2432439085       NaN           NaN            NaN                 NaN   \n435577  2432439499       NaN           NaN            NaN                 NaN   \n\n        accrualPolicy  alternative  audience  available  \\\n0                 NaN          NaN       NaN        NaN   \n1                 NaN          NaN       NaN        NaN   \n2                 NaN          NaN       NaN        NaN   \n3                 NaN          NaN       NaN        NaN   \n4                 NaN          NaN       NaN        NaN   \n...               ...          ...       ...        ...   \n435573            NaN          NaN       NaN        NaN   \n435574            NaN          NaN       NaN        NaN   \n435575            NaN          NaN       NaN        NaN   \n435576            NaN          NaN       NaN        NaN   \n435577            NaN          NaN       NaN        NaN   \n\n        bibliographicCitation  ...   taxonRank  verbatimTaxonRank  \\\n0                         NaN  ...     species                NaN   \n1                         NaN  ...     species                NaN   \n2                         NaN  ...     species                NaN   \n3                         NaN  ...     species                NaN   \n4                         NaN  ...  subspecies                NaN   \n...                       ...  ...         ...                ...   \n435573                    NaN  ...     species                NaN   \n435574                    NaN  ...     species                NaN   \n435575                    NaN  ...     species                NaN   \n435576                    NaN  ...     species                NaN   \n435577                    NaN  ...     species                NaN   \n\n        scientificNameAuthorship         vernacularName  nomenclaturalCode  \\\n0                            NaN    Siberian Rubythroat               ICZN   \n1                            NaN     Olive-backed Pipit               ICZN   \n2                            NaN         Arctic Warbler               ICZN   \n3                            NaN       Daurian Redstart               ICZN   \n4                            NaN          Red Crossbill               ICZN   \n...                          ...                    ...                ...   \n435573                       NaN           Common Snipe               ICZN   \n435574                       NaN           Pine Bunting               ICZN   \n435575                       NaN  Eurasian Tree Sparrow               ICZN   \n435576                       NaN     Olive-backed Pipit               ICZN   \n435577                       NaN  Yellow-browed Bunting               ICZN   \n\n        taxonomicStatus  nomenclaturalStatus  taxonRemarks  recordedByID  \\\n0                   NaN                  NaN           NaN           NaN   \n1                   NaN                  NaN           NaN           NaN   \n2                   NaN                  NaN           NaN           NaN   \n3                   NaN                  NaN           NaN           NaN   \n4                   NaN                  NaN           NaN           NaN   \n...                 ...                  ...           ...           ...   \n435573              NaN                  NaN           NaN           NaN   \n435574              NaN                  NaN           NaN           NaN   \n435575              NaN                  NaN           NaN           NaN   \n435576              NaN                  NaN           NaN           NaN   \n435577              NaN                  NaN           NaN           NaN   \n\n        identifiedByID  \n0                  NaN  \n1                  NaN  \n2                  NaN  \n3                  NaN  \n4                  NaN  \n...                ...  \n435573             NaN  \n435574             NaN  \n435575             NaN  \n435576             NaN  \n435577             NaN  \n\n[435578 rows x 219 columns]",
      "text/html": "<div>\n<style scoped>\n    .dataframe tbody tr th:only-of-type {\n        vertical-align: middle;\n    }\n\n    .dataframe tbody tr th {\n        vertical-align: top;\n    }\n\n    .dataframe thead th {\n        text-align: right;\n    }\n</style>\n<table border=\"1\" class=\"dataframe\">\n  <thead>\n    <tr style=\"text-align: right;\">\n      <th></th>\n      <th>gbifID</th>\n      <th>abstract</th>\n      <th>accessRights</th>\n      <th>accrualMethod</th>\n      <th>accrualPeriodicity</th>\n      <th>accrualPolicy</th>\n      <th>alternative</th>\n      <th>audience</th>\n      <th>available</th>\n      <th>bibliographicCitation</th>\n      <th>...</th>\n      <th>taxonRank</th>\n      <th>verbatimTaxonRank</th>\n      <th>scientificNameAuthorship</th>\n      <th>vernacularName</th>\n      <th>nomenclaturalCode</th>\n      <th>taxonomicStatus</th>\n      <th>nomenclaturalStatus</th>\n      <th>taxonRemarks</th>\n      <th>recordedByID</th>\n      <th>identifiedByID</th>\n    </tr>\n  </thead>\n  <tbody>\n    <tr>\n      <th>0</th>\n      <td>2432439881</td>\n      <td>NaN</td>\n      <td>NaN</td>\n      <td>NaN</td>\n      <td>NaN</td>\n      <td>NaN</td>\n      <td>NaN</td>\n      <td>NaN</td>\n      <td>NaN</td>\n      <td>NaN</td>\n      <td>...</td>\n      <td>species</td>\n      <td>NaN</td>\n      <td>NaN</td>\n      <td>Siberian Rubythroat</td>\n      <td>ICZN</td>\n      <td>NaN</td>\n      <td>NaN</td>\n      <td>NaN</td>\n      <td>NaN</td>\n      <td>NaN</td>\n    </tr>\n    <tr>\n      <th>1</th>\n      <td>2432440798</td>\n      <td>NaN</td>\n      <td>NaN</td>\n      <td>NaN</td>\n      <td>NaN</td>\n      <td>NaN</td>\n      <td>NaN</td>\n      <td>NaN</td>\n      <td>NaN</td>\n      <td>NaN</td>\n      <td>...</td>\n      <td>species</td>\n      <td>NaN</td>\n      <td>NaN</td>\n      <td>Olive-backed Pipit</td>\n      <td>ICZN</td>\n      <td>NaN</td>\n      <td>NaN</td>\n      <td>NaN</td>\n      <td>NaN</td>\n      <td>NaN</td>\n    </tr>\n    <tr>\n      <th>2</th>\n      <td>2432439707</td>\n      <td>NaN</td>\n      <td>NaN</td>\n      <td>NaN</td>\n      <td>NaN</td>\n      <td>NaN</td>\n      <td>NaN</td>\n      <td>NaN</td>\n      <td>NaN</td>\n      <td>NaN</td>\n      <td>...</td>\n      <td>species</td>\n      <td>NaN</td>\n      <td>NaN</td>\n      <td>Arctic Warbler</td>\n      <td>ICZN</td>\n      <td>NaN</td>\n      <td>NaN</td>\n      <td>NaN</td>\n      <td>NaN</td>\n      <td>NaN</td>\n    </tr>\n    <tr>\n      <th>3</th>\n      <td>2432440942</td>\n      <td>NaN</td>\n      <td>NaN</td>\n      <td>NaN</td>\n      <td>NaN</td>\n      <td>NaN</td>\n      <td>NaN</td>\n      <td>NaN</td>\n      <td>NaN</td>\n      <td>NaN</td>\n      <td>...</td>\n      <td>species</td>\n      <td>NaN</td>\n      <td>NaN</td>\n      <td>Daurian Redstart</td>\n      <td>ICZN</td>\n      <td>NaN</td>\n      <td>NaN</td>\n      <td>NaN</td>\n      <td>NaN</td>\n      <td>NaN</td>\n    </tr>\n    <tr>\n      <th>4</th>\n      <td>2432440206</td>\n      <td>NaN</td>\n      <td>NaN</td>\n      <td>NaN</td>\n      <td>NaN</td>\n      <td>NaN</td>\n      <td>NaN</td>\n      <td>NaN</td>\n      <td>NaN</td>\n      <td>NaN</td>\n      <td>...</td>\n      <td>subspecies</td>\n      <td>NaN</td>\n      <td>NaN</td>\n      <td>Red Crossbill</td>\n      <td>ICZN</td>\n      <td>NaN</td>\n      <td>NaN</td>\n      <td>NaN</td>\n      <td>NaN</td>\n      <td>NaN</td>\n    </tr>\n    <tr>\n      <th>...</th>\n      <td>...</td>\n      <td>...</td>\n      <td>...</td>\n      <td>...</td>\n      <td>...</td>\n      <td>...</td>\n      <td>...</td>\n      <td>...</td>\n      <td>...</td>\n      <td>...</td>\n      <td>...</td>\n      <td>...</td>\n      <td>...</td>\n      <td>...</td>\n      <td>...</td>\n      <td>...</td>\n      <td>...</td>\n      <td>...</td>\n      <td>...</td>\n      <td>...</td>\n      <td>...</td>\n    </tr>\n    <tr>\n      <th>435573</th>\n      <td>2432439860</td>\n      <td>NaN</td>\n      <td>NaN</td>\n      <td>NaN</td>\n      <td>NaN</td>\n      <td>NaN</td>\n      <td>NaN</td>\n      <td>NaN</td>\n      <td>NaN</td>\n      <td>NaN</td>\n      <td>...</td>\n      <td>species</td>\n      <td>NaN</td>\n      <td>NaN</td>\n      <td>Common Snipe</td>\n      <td>ICZN</td>\n      <td>NaN</td>\n      <td>NaN</td>\n      <td>NaN</td>\n      <td>NaN</td>\n      <td>NaN</td>\n    </tr>\n    <tr>\n      <th>435574</th>\n      <td>2432439243</td>\n      <td>NaN</td>\n      <td>NaN</td>\n      <td>NaN</td>\n      <td>NaN</td>\n      <td>NaN</td>\n      <td>NaN</td>\n      <td>NaN</td>\n      <td>NaN</td>\n      <td>NaN</td>\n      <td>...</td>\n      <td>species</td>\n      <td>NaN</td>\n      <td>NaN</td>\n      <td>Pine Bunting</td>\n      <td>ICZN</td>\n      <td>NaN</td>\n      <td>NaN</td>\n      <td>NaN</td>\n      <td>NaN</td>\n      <td>NaN</td>\n    </tr>\n    <tr>\n      <th>435575</th>\n      <td>2432439694</td>\n      <td>NaN</td>\n      <td>NaN</td>\n      <td>NaN</td>\n      <td>NaN</td>\n      <td>NaN</td>\n      <td>NaN</td>\n      <td>NaN</td>\n      <td>NaN</td>\n      <td>NaN</td>\n      <td>...</td>\n      <td>species</td>\n      <td>NaN</td>\n      <td>NaN</td>\n      <td>Eurasian Tree Sparrow</td>\n      <td>ICZN</td>\n      <td>NaN</td>\n      <td>NaN</td>\n      <td>NaN</td>\n      <td>NaN</td>\n      <td>NaN</td>\n    </tr>\n    <tr>\n      <th>435576</th>\n      <td>2432439085</td>\n      <td>NaN</td>\n      <td>NaN</td>\n      <td>NaN</td>\n      <td>NaN</td>\n      <td>NaN</td>\n      <td>NaN</td>\n      <td>NaN</td>\n      <td>NaN</td>\n      <td>NaN</td>\n      <td>...</td>\n      <td>species</td>\n      <td>NaN</td>\n      <td>NaN</td>\n      <td>Olive-backed Pipit</td>\n      <td>ICZN</td>\n      <td>NaN</td>\n      <td>NaN</td>\n      <td>NaN</td>\n      <td>NaN</td>\n      <td>NaN</td>\n    </tr>\n    <tr>\n      <th>435577</th>\n      <td>2432439499</td>\n      <td>NaN</td>\n      <td>NaN</td>\n      <td>NaN</td>\n      <td>NaN</td>\n      <td>NaN</td>\n      <td>NaN</td>\n      <td>NaN</td>\n      <td>NaN</td>\n      <td>NaN</td>\n      <td>...</td>\n      <td>species</td>\n      <td>NaN</td>\n      <td>NaN</td>\n      <td>Yellow-browed Bunting</td>\n      <td>ICZN</td>\n      <td>NaN</td>\n      <td>NaN</td>\n      <td>NaN</td>\n      <td>NaN</td>\n      <td>NaN</td>\n    </tr>\n  </tbody>\n</table>\n<p>435578 rows × 219 columns</p>\n</div>"
     },
     "metadata": {},
     "execution_count": 35
    }
   ],
   "source": [
    "verbatim_df"
   ]
  },
  {
   "cell_type": "code",
   "execution_count": 10,
   "metadata": {},
   "outputs": [],
   "source": [
    "multimedia_df = pd.read_csv(os.path.join(gbif_path, 'multimedia.txt'), sep = '\\t')"
   ]
  },
  {
   "cell_type": "code",
   "execution_count": 11,
   "metadata": {},
   "outputs": [
    {
     "output_type": "execute_result",
     "data": {
      "text/plain": "            gbifID        type      format  \\\n0       2243549888  StillImage   image/png   \n1       2243549888       Sound  audio/mpeg   \n2       2243549893       Sound  audio/mpeg   \n3       2243549893  StillImage   image/png   \n4       2243549898       Sound  audio/mpeg   \n...            ...         ...         ...   \n871717  2609693247  StillImage   image/png   \n871718  2609693252  StillImage   image/png   \n871719  2609693252       Sound  audio/mpeg   \n871720  2609693257  StillImage   image/png   \n871721  2609693257       Sound  audio/mpeg   \n\n                                               identifier  references  title  \\\n0       https://www.xeno-canto.org/sounds/uploaded/ZNC...         NaN    NaN   \n1       https://www.xeno-canto.org/sounds/uploaded/ZNC...         NaN    NaN   \n2       https://www.xeno-canto.org/sounds/uploaded/ZNC...         NaN    NaN   \n3       https://www.xeno-canto.org/sounds/uploaded/ZNC...         NaN    NaN   \n4       https://www.xeno-canto.org/sounds/uploaded/PWD...         NaN    NaN   \n...                                                   ...         ...    ...   \n871717  https://www.xeno-canto.org/sounds/uploaded/AZX...         NaN    NaN   \n871718  https://www.xeno-canto.org/sounds/uploaded/AZX...         NaN    NaN   \n871719  https://www.xeno-canto.org/sounds/uploaded/AZX...         NaN    NaN   \n871720  https://www.xeno-canto.org/sounds/uploaded/AZX...         NaN    NaN   \n871721  https://www.xeno-canto.org/sounds/uploaded/AZX...         NaN    NaN   \n\n                                              description  source  audience  \\\n0       Sonogram of the first ten seconds of the sound...     NaN       NaN   \n1                                                   141 s     NaN       NaN   \n2                                                   115 s     NaN       NaN   \n3       Sonogram of the first ten seconds of the sound...     NaN       NaN   \n4                                                    34 s     NaN       NaN   \n...                                                   ...     ...       ...   \n871717  Sonogram of the first ten seconds of the sound...     NaN       NaN   \n871718  Sonogram of the first ten seconds of the sound...     NaN       NaN   \n871719                                                4 s     NaN       NaN   \n871720  Sonogram of the first ten seconds of the sound...     NaN       NaN   \n871721                                               24 s     NaN       NaN   \n\n        created                                   creator  contributor  \\\n0           NaN  Stichting Xeno-canto voor Natuurgeluiden          NaN   \n1           NaN                            Jarek Matusiak          NaN   \n2           NaN                            Jarek Matusiak          NaN   \n3           NaN  Stichting Xeno-canto voor Natuurgeluiden          NaN   \n4           NaN                               Mike Nelson          NaN   \n...         ...                                       ...          ...   \n871717      NaN  Stichting Xeno-canto voor Natuurgeluiden          NaN   \n871718      NaN  Stichting Xeno-canto voor Natuurgeluiden          NaN   \n871719      NaN                         Allen T. Chartier          NaN   \n871720      NaN  Stichting Xeno-canto voor Natuurgeluiden          NaN   \n871721      NaN                         Allen T. Chartier          NaN   \n\n        publisher                                            license  \\\n0             NaN  http://creativecommons.org/licenses/by-nc-nd/2.5/   \n1             NaN  http://creativecommons.org/licenses/by-nc-nd/2.5/   \n2             NaN  http://creativecommons.org/licenses/by-nc-nd/2.5/   \n3             NaN  http://creativecommons.org/licenses/by-nc-nd/2.5/   \n4             NaN  http://creativecommons.org/licenses/by-nc-nd/2.5/   \n...           ...                                                ...   \n871717        NaN  http://creativecommons.org/licenses/by-nc-sa/3.0/   \n871718        NaN  http://creativecommons.org/licenses/by-nc-sa/3.0/   \n871719        NaN  http://creativecommons.org/licenses/by-nc-sa/3.0/   \n871720        NaN  http://creativecommons.org/licenses/by-nc-sa/3.0/   \n871721        NaN  http://creativecommons.org/licenses/by-nc-sa/3.0/   \n\n                                    rightsHolder  \n0       Stichting Xeno-canto voor Natuurgeluiden  \n1                                 Jarek Matusiak  \n2                                 Jarek Matusiak  \n3       Stichting Xeno-canto voor Natuurgeluiden  \n4                                    Mike Nelson  \n...                                          ...  \n871717  Stichting Xeno-canto voor Natuurgeluiden  \n871718  Stichting Xeno-canto voor Natuurgeluiden  \n871719                         Allen T. Chartier  \n871720  Stichting Xeno-canto voor Natuurgeluiden  \n871721                         Allen T. Chartier  \n\n[871722 rows x 15 columns]",
      "text/html": "<div>\n<style scoped>\n    .dataframe tbody tr th:only-of-type {\n        vertical-align: middle;\n    }\n\n    .dataframe tbody tr th {\n        vertical-align: top;\n    }\n\n    .dataframe thead th {\n        text-align: right;\n    }\n</style>\n<table border=\"1\" class=\"dataframe\">\n  <thead>\n    <tr style=\"text-align: right;\">\n      <th></th>\n      <th>gbifID</th>\n      <th>type</th>\n      <th>format</th>\n      <th>identifier</th>\n      <th>references</th>\n      <th>title</th>\n      <th>description</th>\n      <th>source</th>\n      <th>audience</th>\n      <th>created</th>\n      <th>creator</th>\n      <th>contributor</th>\n      <th>publisher</th>\n      <th>license</th>\n      <th>rightsHolder</th>\n    </tr>\n  </thead>\n  <tbody>\n    <tr>\n      <th>0</th>\n      <td>2243549888</td>\n      <td>StillImage</td>\n      <td>image/png</td>\n      <td>https://www.xeno-canto.org/sounds/uploaded/ZNC...</td>\n      <td>NaN</td>\n      <td>NaN</td>\n      <td>Sonogram of the first ten seconds of the sound...</td>\n      <td>NaN</td>\n      <td>NaN</td>\n      <td>NaN</td>\n      <td>Stichting Xeno-canto voor Natuurgeluiden</td>\n      <td>NaN</td>\n      <td>NaN</td>\n      <td>http://creativecommons.org/licenses/by-nc-nd/2.5/</td>\n      <td>Stichting Xeno-canto voor Natuurgeluiden</td>\n    </tr>\n    <tr>\n      <th>1</th>\n      <td>2243549888</td>\n      <td>Sound</td>\n      <td>audio/mpeg</td>\n      <td>https://www.xeno-canto.org/sounds/uploaded/ZNC...</td>\n      <td>NaN</td>\n      <td>NaN</td>\n      <td>141 s</td>\n      <td>NaN</td>\n      <td>NaN</td>\n      <td>NaN</td>\n      <td>Jarek Matusiak</td>\n      <td>NaN</td>\n      <td>NaN</td>\n      <td>http://creativecommons.org/licenses/by-nc-nd/2.5/</td>\n      <td>Jarek Matusiak</td>\n    </tr>\n    <tr>\n      <th>2</th>\n      <td>2243549893</td>\n      <td>Sound</td>\n      <td>audio/mpeg</td>\n      <td>https://www.xeno-canto.org/sounds/uploaded/ZNC...</td>\n      <td>NaN</td>\n      <td>NaN</td>\n      <td>115 s</td>\n      <td>NaN</td>\n      <td>NaN</td>\n      <td>NaN</td>\n      <td>Jarek Matusiak</td>\n      <td>NaN</td>\n      <td>NaN</td>\n      <td>http://creativecommons.org/licenses/by-nc-nd/2.5/</td>\n      <td>Jarek Matusiak</td>\n    </tr>\n    <tr>\n      <th>3</th>\n      <td>2243549893</td>\n      <td>StillImage</td>\n      <td>image/png</td>\n      <td>https://www.xeno-canto.org/sounds/uploaded/ZNC...</td>\n      <td>NaN</td>\n      <td>NaN</td>\n      <td>Sonogram of the first ten seconds of the sound...</td>\n      <td>NaN</td>\n      <td>NaN</td>\n      <td>NaN</td>\n      <td>Stichting Xeno-canto voor Natuurgeluiden</td>\n      <td>NaN</td>\n      <td>NaN</td>\n      <td>http://creativecommons.org/licenses/by-nc-nd/2.5/</td>\n      <td>Stichting Xeno-canto voor Natuurgeluiden</td>\n    </tr>\n    <tr>\n      <th>4</th>\n      <td>2243549898</td>\n      <td>Sound</td>\n      <td>audio/mpeg</td>\n      <td>https://www.xeno-canto.org/sounds/uploaded/PWD...</td>\n      <td>NaN</td>\n      <td>NaN</td>\n      <td>34 s</td>\n      <td>NaN</td>\n      <td>NaN</td>\n      <td>NaN</td>\n      <td>Mike Nelson</td>\n      <td>NaN</td>\n      <td>NaN</td>\n      <td>http://creativecommons.org/licenses/by-nc-nd/2.5/</td>\n      <td>Mike Nelson</td>\n    </tr>\n    <tr>\n      <th>...</th>\n      <td>...</td>\n      <td>...</td>\n      <td>...</td>\n      <td>...</td>\n      <td>...</td>\n      <td>...</td>\n      <td>...</td>\n      <td>...</td>\n      <td>...</td>\n      <td>...</td>\n      <td>...</td>\n      <td>...</td>\n      <td>...</td>\n      <td>...</td>\n      <td>...</td>\n    </tr>\n    <tr>\n      <th>871717</th>\n      <td>2609693247</td>\n      <td>StillImage</td>\n      <td>image/png</td>\n      <td>https://www.xeno-canto.org/sounds/uploaded/AZX...</td>\n      <td>NaN</td>\n      <td>NaN</td>\n      <td>Sonogram of the first ten seconds of the sound...</td>\n      <td>NaN</td>\n      <td>NaN</td>\n      <td>NaN</td>\n      <td>Stichting Xeno-canto voor Natuurgeluiden</td>\n      <td>NaN</td>\n      <td>NaN</td>\n      <td>http://creativecommons.org/licenses/by-nc-sa/3.0/</td>\n      <td>Stichting Xeno-canto voor Natuurgeluiden</td>\n    </tr>\n    <tr>\n      <th>871718</th>\n      <td>2609693252</td>\n      <td>StillImage</td>\n      <td>image/png</td>\n      <td>https://www.xeno-canto.org/sounds/uploaded/AZX...</td>\n      <td>NaN</td>\n      <td>NaN</td>\n      <td>Sonogram of the first ten seconds of the sound...</td>\n      <td>NaN</td>\n      <td>NaN</td>\n      <td>NaN</td>\n      <td>Stichting Xeno-canto voor Natuurgeluiden</td>\n      <td>NaN</td>\n      <td>NaN</td>\n      <td>http://creativecommons.org/licenses/by-nc-sa/3.0/</td>\n      <td>Stichting Xeno-canto voor Natuurgeluiden</td>\n    </tr>\n    <tr>\n      <th>871719</th>\n      <td>2609693252</td>\n      <td>Sound</td>\n      <td>audio/mpeg</td>\n      <td>https://www.xeno-canto.org/sounds/uploaded/AZX...</td>\n      <td>NaN</td>\n      <td>NaN</td>\n      <td>4 s</td>\n      <td>NaN</td>\n      <td>NaN</td>\n      <td>NaN</td>\n      <td>Allen T. Chartier</td>\n      <td>NaN</td>\n      <td>NaN</td>\n      <td>http://creativecommons.org/licenses/by-nc-sa/3.0/</td>\n      <td>Allen T. Chartier</td>\n    </tr>\n    <tr>\n      <th>871720</th>\n      <td>2609693257</td>\n      <td>StillImage</td>\n      <td>image/png</td>\n      <td>https://www.xeno-canto.org/sounds/uploaded/AZX...</td>\n      <td>NaN</td>\n      <td>NaN</td>\n      <td>Sonogram of the first ten seconds of the sound...</td>\n      <td>NaN</td>\n      <td>NaN</td>\n      <td>NaN</td>\n      <td>Stichting Xeno-canto voor Natuurgeluiden</td>\n      <td>NaN</td>\n      <td>NaN</td>\n      <td>http://creativecommons.org/licenses/by-nc-sa/3.0/</td>\n      <td>Stichting Xeno-canto voor Natuurgeluiden</td>\n    </tr>\n    <tr>\n      <th>871721</th>\n      <td>2609693257</td>\n      <td>Sound</td>\n      <td>audio/mpeg</td>\n      <td>https://www.xeno-canto.org/sounds/uploaded/AZX...</td>\n      <td>NaN</td>\n      <td>NaN</td>\n      <td>24 s</td>\n      <td>NaN</td>\n      <td>NaN</td>\n      <td>NaN</td>\n      <td>Allen T. Chartier</td>\n      <td>NaN</td>\n      <td>NaN</td>\n      <td>http://creativecommons.org/licenses/by-nc-sa/3.0/</td>\n      <td>Allen T. Chartier</td>\n    </tr>\n  </tbody>\n</table>\n<p>871722 rows × 15 columns</p>\n</div>"
     },
     "metadata": {},
     "execution_count": 11
    }
   ],
   "source": [
    "multimedia_df"
   ]
  },
  {
   "cell_type": "code",
   "execution_count": null,
   "metadata": {},
   "outputs": [],
   "source": []
  }
 ],
 "metadata": {
  "language_info": {
   "codemirror_mode": {
    "name": "ipython",
    "version": 3
   },
   "file_extension": ".py",
   "mimetype": "text/x-python",
   "name": "python",
   "nbconvert_exporter": "python",
   "pygments_lexer": "ipython3",
   "version": "3.7.7-final"
  },
  "orig_nbformat": 2,
  "kernelspec": {
   "name": "python37764bitpytenvconda3dfa103189494c5294ee424d28ed2452",
   "display_name": "Python 3.7.7 64-bit ('PYTenv': conda)"
  }
 },
 "nbformat": 4,
 "nbformat_minor": 2
}