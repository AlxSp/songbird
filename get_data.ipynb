{
 "cells": [
  {
   "cell_type": "code",
   "execution_count": 32,
   "metadata": {},
   "outputs": [],
   "source": [
    "import xenocanto\n",
    "import pandas as pd\n",
    "import numpy as np\n",
    "import os"
   ]
  },
  {
   "cell_type": "code",
   "execution_count": 33,
   "metadata": {},
   "outputs": [],
   "source": [
    "species_path = os.path.join(\"dataset\",'species_info.csv') \n",
    "species_info_df = pd.read_csv(species_path)"
   ]
  },
  {
   "cell_type": "markdown",
   "metadata": {},
   "source": [
    "Drop species which were recorded less than the rec_min"
   ]
  },
  {
   "cell_type": "code",
   "execution_count": 34,
   "metadata": {},
   "outputs": [
    {
     "output_type": "stream",
     "name": "stdout",
     "text": "Total number of species: 10963\nNumber of species meeting min: 10926\n"
    }
   ],
   "source": [
    "rec_min = 500\n",
    "\n",
    "print(\"Total number of species:\", len(species_info_df))\n",
    "\n",
    "min_species_info_df = species_info_df[species_info_df['forefront recs'] < rec_min]\n",
    "\n",
    "print(\"Number of species meeting min:\", len(min_species_info_df))"
   ]
  },
  {
   "cell_type": "code",
   "execution_count": null,
   "metadata": {},
   "outputs": [],
   "source": []
  }
 ],
 "metadata": {
  "language_info": {
   "codemirror_mode": {
    "name": "ipython",
    "version": 3
   },
   "file_extension": ".py",
   "mimetype": "text/x-python",
   "name": "python",
   "nbconvert_exporter": "python",
   "pygments_lexer": "ipython3",
   "version": "3.7.7-final"
  },
  "orig_nbformat": 2,
  "kernelspec": {
   "name": "python37764bitpytenvconda3dfa103189494c5294ee424d28ed2452",
   "display_name": "Python 3.7.7 64-bit ('PYTenv': conda)"
  }
 },
 "nbformat": 4,
 "nbformat_minor": 2
}