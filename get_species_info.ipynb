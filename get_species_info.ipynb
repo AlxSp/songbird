{
 "cells": [
  {
   "cell_type": "code",
   "execution_count": 1,
   "metadata": {},
   "outputs": [],
   "source": [
    "import os\n",
    "dataset_path = \"dataset\""
   ]
  },
  {
   "cell_type": "markdown",
   "metadata": {},
   "source": [
    "Create a csv file with all bird species info "
   ]
  },
  {
   "cell_type": "code",
   "execution_count": 2,
   "metadata": {},
   "outputs": [],
   "source": [
    "import pandas as pd\n",
    "import numpy as np\n",
    "species_path = os.path.join(dataset_path, \"species\")\n",
    "#Get all bird species in the world\n",
    "world_species_path = os.path.join(species_path, \"world.tsv\")\n",
    "bird_species_df = pd.read_csv(world_species_path, sep = '\\t')\n",
    "#Eliminate trailing spaces\n",
    "renamed_columns = {column : column.rstrip().lower() for column in bird_species_df.columns}\n",
    "bird_species_df.rename(columns = renamed_columns, inplace=True)\n",
    "#Transmform Status column to extinct column with True and False\n",
    "bird_species_df.rename(columns = {'status': 'extinct'}, inplace=True)\n",
    "bird_species_df['extinct'] = bird_species_df['extinct'].apply(lambda x: False if pd.isnull(x) else True)\n",
    "\n",
    "#add continents to df\n",
    "continents = ['africa', 'americas', 'asia', 'australasia', 'europe']\n",
    "for continent in continents:\n",
    "    path = os.path.join(species_path, continent + \".tsv\")\n",
    "    continent_df = pd.read_csv(path, sep = '\\t')\n",
    "    continent_df.rename(columns = renamed_columns, inplace=True)\n",
    "    bird_species_df[continent] = bird_species_df['common name'].isin(continent_df['common name'])\n",
    "\n",
    "bird_species_df.rename(columns = {'no.': 'forefront recs', 'no. back': 'background recs'}, inplace=True)\n",
    "\n",
    "bird_species_df.to_csv(os.path.join(dataset_path, 'species_info.csv'), index = False)\n"
   ]
  }
 ],
 "metadata": {
  "language_info": {
   "codemirror_mode": {
    "name": "ipython",
    "version": 3
   },
   "file_extension": ".py",
   "mimetype": "text/x-python",
   "name": "python",
   "nbconvert_exporter": "python",
   "pygments_lexer": "ipython3",
   "version": "3.7.7-final"
  },
  "orig_nbformat": 2,
  "kernelspec": {
   "name": "python37764bitpytenvconda3dfa103189494c5294ee424d28ed2452",
   "display_name": "Python 3.7.7 64-bit ('PYTenv': conda)"
  }
 },
 "nbformat": 4,
 "nbformat_minor": 2
}