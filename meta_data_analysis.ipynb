{
 "cells": [
  {
   "cell_type": "code",
   "execution_count": 2,
   "metadata": {},
   "outputs": [],
   "source": [
    "import pandas as pd\n",
    "import numpy as np\n",
    "import os"
   ]
  },
  {
   "cell_type": "code",
   "execution_count": 3,
   "metadata": {},
   "outputs": [],
   "source": [
    "gbif_path = 'xeno_canto_bsfatw'\n",
    "\n",
    "occurrence_df = pd.read_csv(os.path.join(gbif_path, 'occurrence.txt'), sep = '\\t')"
   ]
  },
  {
   "cell_type": "code",
   "execution_count": 4,
   "metadata": {},
   "outputs": [
    {
     "output_type": "execute_result",
     "data": {
      "text/plain": "Index(['gbifID', 'abstract', 'accessRights', 'accrualMethod',\n       'accrualPeriodicity', 'accrualPolicy', 'alternative', 'audience',\n       'available', 'bibliographicCitation',\n       ...\n       'acceptedScientificName', 'verbatimScientificName', 'typifiedName',\n       'protocol', 'lastParsed', 'lastCrawled', 'repatriated',\n       'relativeOrganismQuantity', 'recordedByID', 'identifiedByID'],\n      dtype='object', length=241)"
     },
     "metadata": {},
     "execution_count": 4
    }
   ],
   "source": [
    "occurrence_df.columns"
   ]
  },
  {
   "cell_type": "code",
   "execution_count": 5,
   "metadata": {},
   "outputs": [
    {
     "output_type": "execute_result",
     "data": {
      "text/plain": "gbifID                           0\nabstract                    435578\naccessRights                435578\naccrualMethod               435578\naccrualPeriodicity          435578\n                             ...  \nlastCrawled                      5\nrepatriated                      5\nrelativeOrganismQuantity    435578\nrecordedByID                435578\nidentifiedByID              435578\nLength: 241, dtype: int64"
     },
     "metadata": {},
     "execution_count": 5
    }
   ],
   "source": [
    "occurrence_df.isnull().sum()"
   ]
  },
  {
   "cell_type": "markdown",
   "metadata": {},
   "source": [
    "Drop all columns that do not have any values"
   ]
  },
  {
   "cell_type": "code",
   "execution_count": 6,
   "metadata": {},
   "outputs": [
    {
     "output_type": "stream",
     "name": "stdout",
     "text": "Columns with no values: ['abstract', 'accessRights', 'accrualMethod', 'accrualPeriodicity', 'accrualPolicy', 'alternative', 'audience', 'available', 'bibliographicCitation', 'conformsTo', 'contributor', 'coverage', 'created', 'creator', 'date', 'dateAccepted', 'dateCopyrighted', 'dateSubmitted', 'description', 'educationLevel', 'extent', 'format', 'hasFormat', 'hasPart', 'hasVersion', 'instructionalMethod', 'isFormatOf', 'isPartOf', 'isReferencedBy', 'isReplacedBy', 'isRequiredBy', 'isVersionOf', 'issued', 'language', 'mediator', 'medium', 'modified', 'provenance', 'relation', 'replaces', 'requires', 'rights', 'source', 'spatial', 'subject', 'tableOfContents', 'temporal', 'title', 'type', 'valid', 'institutionID', 'collectionID', 'datasetID', 'institutionCode', 'ownerInstitutionCode', 'informationWithheld', 'dataGeneralizations', 'dynamicProperties', 'recordNumber', 'individualCount', 'organismQuantity', 'organismQuantityType', 'sex', 'lifeStage', 'reproductiveCondition', 'establishmentMeans', 'occurrenceStatus', 'preparations', 'disposition', 'associatedReferences', 'associatedSequences', 'otherCatalogNumbers', 'organismID', 'organismName', 'organismScope', 'associatedOrganisms', 'organismRemarks', 'materialSampleID', 'eventID', 'parentEventID', 'fieldNumber', 'startDayOfYear', 'endDayOfYear', 'habitat', 'samplingProtocol', 'samplingEffort', 'sampleSizeValue', 'sampleSizeUnit', 'eventRemarks', 'locationID', 'higherGeographyID', 'higherGeography', 'continent', 'waterBody', 'islandGroup', 'island', 'stateProvince', 'county', 'municipality', 'verbatimLocality', 'verbatimDepth', 'minimumDistanceAboveSurfaceInMeters', 'maximumDistanceAboveSurfaceInMeters', 'locationAccordingTo', 'locationRemarks', 'coordinateUncertaintyInMeters', 'coordinatePrecision', 'pointRadiusSpatialFit', 'verbatimCoordinateSystem', 'verbatimSRS', 'footprintWKT', 'footprintSRS', 'footprintSpatialFit', 'georeferencedDate', 'georeferenceProtocol', 'georeferenceSources', 'georeferenceVerificationStatus', 'georeferenceRemarks', 'earliestEonOrLowestEonothem', 'latestEonOrHighestEonothem', 'earliestEraOrLowestErathem', 'latestEraOrHighestErathem', 'earliestPeriodOrLowestSystem', 'latestPeriodOrHighestSystem', 'group', 'member', 'identificationID', 'dateIdentified', 'identificationReferences', 'scientificNameID', 'parentNameUsageID', 'originalNameUsageID', 'nameAccordingToID', 'namePublishedInID', 'nomenclaturalStatus', 'taxonRemarks', 'elevation', 'elevationAccuracy', 'depth', 'depthAccuracy', 'distanceAboveSurface', 'distanceAboveSurfaceAccuracy', 'subgenusKey', 'typifiedName', 'relativeOrganismQuantity', 'recordedByID', 'identifiedByID']\n"
    }
   ],
   "source": [
    "occurrence_columns_with_no_values = []\n",
    "\n",
    "for column in occurrence_df.columns:\n",
    "    if occurrence_df[column].isnull().all():\n",
    "        occurrence_columns_with_no_values.append(column)\n",
    "\n",
    "print(\"Columns with no values:\", occurrence_columns_with_no_values)\n",
    "\n",
    "occurrence_df = occurrence_df.drop(occurrence_columns_with_no_values, axis=1)"
   ]
  },
  {
   "cell_type": "markdown",
   "metadata": {},
   "source": [
    "List all columns with a single value"
   ]
  },
  {
   "cell_type": "code",
   "execution_count": 7,
   "metadata": {},
   "outputs": [
    {
     "output_type": "stream",
     "name": "stdout",
     "text": "Columns with only one value: ['license', 'publisher', 'collectionCode', 'datasetName', 'basisOfRecord']\n"
    }
   ],
   "source": [
    "occurrence_columns_with_one_value = []\n",
    "\n",
    "for column in occurrence_df.columns:\n",
    "    if occurrence_df[column].unique().size == 1:\n",
    "        occurrence_columns_with_one_value.append(column)\n",
    "\n",
    "print(\"Columns with only one value:\", occurrence_columns_with_one_value)\n",
    "\n",
    "occurrence_df = occurrence_df.drop(occurrence_columns_with_one_value, axis=1)\n",
    "\n"
   ]
  },
  {
   "cell_type": "code",
   "execution_count": 8,
   "metadata": {},
   "outputs": [
    {
     "output_type": "execute_result",
     "data": {
      "text/plain": "            gbifID identifier  \\\n0       2432439881  485806@XC   \n1       2432440798  485824@XC   \n2       2432439707  485842@XC   \n3       2432440942  485860@XC   \n4       2432440206  485879@XC   \n...            ...        ...   \n435573  2432439860  485707@XC   \n435574  2432439243  485725@XC   \n435575  2432439694  485743@XC   \n435576  2432439085  485761@XC   \n435577  2432439499  485798@XC   \n\n                                               references     rightsHolder  \\\n0       https://data.biodiversitydata.nl/xeno-canto/ob...  Stanislas Wroza   \n1       https://data.biodiversitydata.nl/xeno-canto/ob...  Stanislas Wroza   \n2       https://data.biodiversitydata.nl/xeno-canto/ob...  Stanislas Wroza   \n3       https://data.biodiversitydata.nl/xeno-canto/ob...  Stanislas Wroza   \n4       https://data.biodiversitydata.nl/xeno-canto/ob...  Stanislas Wroza   \n...                                                   ...              ...   \n435573  https://data.biodiversitydata.nl/xeno-canto/ob...  Stanislas Wroza   \n435574  https://data.biodiversitydata.nl/xeno-canto/ob...  Stanislas Wroza   \n435575  https://data.biodiversitydata.nl/xeno-canto/ob...  Stanislas Wroza   \n435576  https://data.biodiversitydata.nl/xeno-canto/ob...  Stanislas Wroza   \n435577  https://data.biodiversitydata.nl/xeno-canto/ob...  Stanislas Wroza   \n\n                                             occurrenceID catalogNumber  \\\n0       https://data.biodiversitydata.nl/xeno-canto/ob...      XC485806   \n1       https://data.biodiversitydata.nl/xeno-canto/ob...      XC485824   \n2       https://data.biodiversitydata.nl/xeno-canto/ob...      XC485842   \n3       https://data.biodiversitydata.nl/xeno-canto/ob...      XC485860   \n4       https://data.biodiversitydata.nl/xeno-canto/ob...      XC485879   \n...                                                   ...           ...   \n435573  https://data.biodiversitydata.nl/xeno-canto/ob...      XC485707   \n435574  https://data.biodiversitydata.nl/xeno-canto/ob...      XC485725   \n435575  https://data.biodiversitydata.nl/xeno-canto/ob...      XC485743   \n435576  https://data.biodiversitydata.nl/xeno-canto/ob...      XC485761   \n435577  https://data.biodiversitydata.nl/xeno-canto/ob...      XC485798   \n\n             recordedBy                behavior associatedTaxa  \\\n0       Stanislas Wroza                    song            NaN   \n1       Stanislas Wroza              alarm call            NaN   \n2       Stanislas Wroza              call, song            NaN   \n3       Stanislas Wroza  begging call, juvenile            NaN   \n4       Stanislas Wroza             flight call            NaN   \n...                 ...                     ...            ...   \n435573  Stanislas Wroza           display, song            NaN   \n435574  Stanislas Wroza             flight call            NaN   \n435575  Stanislas Wroza             flight call            NaN   \n435576  Stanislas Wroza             flight call            NaN   \n435577  Stanislas Wroza             flight call            NaN   \n\n       occurrenceRemarks  ...   genusKey speciesKey                 species  \\\n0                    NaN  ...  5429330.0  2492537.0       Luscinia calliope   \n1                    NaN  ...  2490241.0  2490244.0         Anthus hodgsoni   \n2                    NaN  ...  2493047.0  2493071.0   Phylloscopus borealis   \n3                    NaN  ...  5429347.0  5231223.0    Phoenicurus auroreus   \n4                    NaN  ...  2494150.0  9629160.0       Loxia curvirostra   \n...                  ...  ...        ...        ...                     ...   \n435573               NaN  ...  2481808.0  2481819.0     Gallinago gallinago   \n435574               NaN  ...  2491468.0  2491472.0  Emberiza leucocephalos   \n435575               NaN  ...  2492321.0  5231198.0         Passer montanus   \n435576               NaN  ...  2490241.0  2490244.0         Anthus hodgsoni   \n435577               NaN  ...  2491468.0  2491530.0    Emberiza chrysophrys   \n\n         genericName                     acceptedScientificName  \\\n0           Calliope           Luscinia calliope (Pallas, 1776)   \n1             Anthus             Anthus hodgsoni Richmond, 1907   \n2       Phylloscopus  Phylloscopus borealis (J.H.Blasius, 1858)   \n3        Phoenicurus        Phoenicurus auroreus (Pallas, 1776)   \n4              Loxia           Loxia curvirostra Linnaeus, 1758   \n...              ...                                        ...   \n435573     Gallinago       Gallinago gallinago (Linnaeus, 1758)   \n435574      Emberiza    Emberiza leucocephalos S.G.Gmelin, 1771   \n435575        Passer           Passer montanus (Linnaeus, 1758)   \n435576        Anthus             Anthus hodgsoni Richmond, 1907   \n435577      Emberiza          Emberiza chrysophrys Pallas, 1776   \n\n          verbatimScientificName     protocol                lastParsed  \\\n0              Calliope calliope  DWC_ARCHIVE  2020-06-08T17:16:09.759Z   \n1                Anthus hodgsoni  DWC_ARCHIVE  2020-06-08T17:16:09.759Z   \n2          Phylloscopus borealis  DWC_ARCHIVE  2020-06-08T17:16:09.759Z   \n3           Phoenicurus auroreus  DWC_ARCHIVE  2020-06-08T17:16:09.759Z   \n4       Loxia curvirostra N4, N8  DWC_ARCHIVE  2020-06-08T17:16:09.759Z   \n...                          ...          ...                       ...   \n435573       Gallinago gallinago  DWC_ARCHIVE  2020-06-08T17:16:09.759Z   \n435574    Emberiza leucocephalos  DWC_ARCHIVE  2020-06-08T17:16:09.759Z   \n435575           Passer montanus  DWC_ARCHIVE  2020-06-08T17:16:09.759Z   \n435576           Anthus hodgsoni  DWC_ARCHIVE  2020-06-08T17:16:09.759Z   \n435577      Emberiza chrysophrys  DWC_ARCHIVE  2020-06-08T17:16:09.759Z   \n\n                     lastCrawled repatriated  \n0       2020-06-02T09:48:40.848Z        True  \n1       2020-06-02T09:48:40.848Z        True  \n2       2020-06-02T09:48:40.848Z        True  \n3       2020-06-02T09:48:40.848Z        True  \n4       2020-06-02T09:48:40.848Z        True  \n...                          ...         ...  \n435573  2020-06-02T09:48:40.848Z        True  \n435574  2020-06-02T09:48:40.848Z        True  \n435575  2020-06-02T09:48:40.848Z        True  \n435576  2020-06-02T09:48:40.848Z        True  \n435577  2020-06-02T09:48:40.848Z        True  \n\n[435578 rows x 89 columns]",
      "text/html": "<div>\n<style scoped>\n    .dataframe tbody tr th:only-of-type {\n        vertical-align: middle;\n    }\n\n    .dataframe tbody tr th {\n        vertical-align: top;\n    }\n\n    .dataframe thead th {\n        text-align: right;\n    }\n</style>\n<table border=\"1\" class=\"dataframe\">\n  <thead>\n    <tr style=\"text-align: right;\">\n      <th></th>\n      <th>gbifID</th>\n      <th>identifier</th>\n      <th>references</th>\n      <th>rightsHolder</th>\n      <th>occurrenceID</th>\n      <th>catalogNumber</th>\n      <th>recordedBy</th>\n      <th>behavior</th>\n      <th>associatedTaxa</th>\n      <th>occurrenceRemarks</th>\n      <th>...</th>\n      <th>genusKey</th>\n      <th>speciesKey</th>\n      <th>species</th>\n      <th>genericName</th>\n      <th>acceptedScientificName</th>\n      <th>verbatimScientificName</th>\n      <th>protocol</th>\n      <th>lastParsed</th>\n      <th>lastCrawled</th>\n      <th>repatriated</th>\n    </tr>\n  </thead>\n  <tbody>\n    <tr>\n      <th>0</th>\n      <td>2432439881</td>\n      <td>485806@XC</td>\n      <td>https://data.biodiversitydata.nl/xeno-canto/ob...</td>\n      <td>Stanislas Wroza</td>\n      <td>https://data.biodiversitydata.nl/xeno-canto/ob...</td>\n      <td>XC485806</td>\n      <td>Stanislas Wroza</td>\n      <td>song</td>\n      <td>NaN</td>\n      <td>NaN</td>\n      <td>...</td>\n      <td>5429330.0</td>\n      <td>2492537.0</td>\n      <td>Luscinia calliope</td>\n      <td>Calliope</td>\n      <td>Luscinia calliope (Pallas, 1776)</td>\n      <td>Calliope calliope</td>\n      <td>DWC_ARCHIVE</td>\n      <td>2020-06-08T17:16:09.759Z</td>\n      <td>2020-06-02T09:48:40.848Z</td>\n      <td>True</td>\n    </tr>\n    <tr>\n      <th>1</th>\n      <td>2432440798</td>\n      <td>485824@XC</td>\n      <td>https://data.biodiversitydata.nl/xeno-canto/ob...</td>\n      <td>Stanislas Wroza</td>\n      <td>https://data.biodiversitydata.nl/xeno-canto/ob...</td>\n      <td>XC485824</td>\n      <td>Stanislas Wroza</td>\n      <td>alarm call</td>\n      <td>NaN</td>\n      <td>NaN</td>\n      <td>...</td>\n      <td>2490241.0</td>\n      <td>2490244.0</td>\n      <td>Anthus hodgsoni</td>\n      <td>Anthus</td>\n      <td>Anthus hodgsoni Richmond, 1907</td>\n      <td>Anthus hodgsoni</td>\n      <td>DWC_ARCHIVE</td>\n      <td>2020-06-08T17:16:09.759Z</td>\n      <td>2020-06-02T09:48:40.848Z</td>\n      <td>True</td>\n    </tr>\n    <tr>\n      <th>2</th>\n      <td>2432439707</td>\n      <td>485842@XC</td>\n      <td>https://data.biodiversitydata.nl/xeno-canto/ob...</td>\n      <td>Stanislas Wroza</td>\n      <td>https://data.biodiversitydata.nl/xeno-canto/ob...</td>\n      <td>XC485842</td>\n      <td>Stanislas Wroza</td>\n      <td>call, song</td>\n      <td>NaN</td>\n      <td>NaN</td>\n      <td>...</td>\n      <td>2493047.0</td>\n      <td>2493071.0</td>\n      <td>Phylloscopus borealis</td>\n      <td>Phylloscopus</td>\n      <td>Phylloscopus borealis (J.H.Blasius, 1858)</td>\n      <td>Phylloscopus borealis</td>\n      <td>DWC_ARCHIVE</td>\n      <td>2020-06-08T17:16:09.759Z</td>\n      <td>2020-06-02T09:48:40.848Z</td>\n      <td>True</td>\n    </tr>\n    <tr>\n      <th>3</th>\n      <td>2432440942</td>\n      <td>485860@XC</td>\n      <td>https://data.biodiversitydata.nl/xeno-canto/ob...</td>\n      <td>Stanislas Wroza</td>\n      <td>https://data.biodiversitydata.nl/xeno-canto/ob...</td>\n      <td>XC485860</td>\n      <td>Stanislas Wroza</td>\n      <td>begging call, juvenile</td>\n      <td>NaN</td>\n      <td>NaN</td>\n      <td>...</td>\n      <td>5429347.0</td>\n      <td>5231223.0</td>\n      <td>Phoenicurus auroreus</td>\n      <td>Phoenicurus</td>\n      <td>Phoenicurus auroreus (Pallas, 1776)</td>\n      <td>Phoenicurus auroreus</td>\n      <td>DWC_ARCHIVE</td>\n      <td>2020-06-08T17:16:09.759Z</td>\n      <td>2020-06-02T09:48:40.848Z</td>\n      <td>True</td>\n    </tr>\n    <tr>\n      <th>4</th>\n      <td>2432440206</td>\n      <td>485879@XC</td>\n      <td>https://data.biodiversitydata.nl/xeno-canto/ob...</td>\n      <td>Stanislas Wroza</td>\n      <td>https://data.biodiversitydata.nl/xeno-canto/ob...</td>\n      <td>XC485879</td>\n      <td>Stanislas Wroza</td>\n      <td>flight call</td>\n      <td>NaN</td>\n      <td>NaN</td>\n      <td>...</td>\n      <td>2494150.0</td>\n      <td>9629160.0</td>\n      <td>Loxia curvirostra</td>\n      <td>Loxia</td>\n      <td>Loxia curvirostra Linnaeus, 1758</td>\n      <td>Loxia curvirostra N4, N8</td>\n      <td>DWC_ARCHIVE</td>\n      <td>2020-06-08T17:16:09.759Z</td>\n      <td>2020-06-02T09:48:40.848Z</td>\n      <td>True</td>\n    </tr>\n    <tr>\n      <th>...</th>\n      <td>...</td>\n      <td>...</td>\n      <td>...</td>\n      <td>...</td>\n      <td>...</td>\n      <td>...</td>\n      <td>...</td>\n      <td>...</td>\n      <td>...</td>\n      <td>...</td>\n      <td>...</td>\n      <td>...</td>\n      <td>...</td>\n      <td>...</td>\n      <td>...</td>\n      <td>...</td>\n      <td>...</td>\n      <td>...</td>\n      <td>...</td>\n      <td>...</td>\n      <td>...</td>\n    </tr>\n    <tr>\n      <th>435573</th>\n      <td>2432439860</td>\n      <td>485707@XC</td>\n      <td>https://data.biodiversitydata.nl/xeno-canto/ob...</td>\n      <td>Stanislas Wroza</td>\n      <td>https://data.biodiversitydata.nl/xeno-canto/ob...</td>\n      <td>XC485707</td>\n      <td>Stanislas Wroza</td>\n      <td>display, song</td>\n      <td>NaN</td>\n      <td>NaN</td>\n      <td>...</td>\n      <td>2481808.0</td>\n      <td>2481819.0</td>\n      <td>Gallinago gallinago</td>\n      <td>Gallinago</td>\n      <td>Gallinago gallinago (Linnaeus, 1758)</td>\n      <td>Gallinago gallinago</td>\n      <td>DWC_ARCHIVE</td>\n      <td>2020-06-08T17:16:09.759Z</td>\n      <td>2020-06-02T09:48:40.848Z</td>\n      <td>True</td>\n    </tr>\n    <tr>\n      <th>435574</th>\n      <td>2432439243</td>\n      <td>485725@XC</td>\n      <td>https://data.biodiversitydata.nl/xeno-canto/ob...</td>\n      <td>Stanislas Wroza</td>\n      <td>https://data.biodiversitydata.nl/xeno-canto/ob...</td>\n      <td>XC485725</td>\n      <td>Stanislas Wroza</td>\n      <td>flight call</td>\n      <td>NaN</td>\n      <td>NaN</td>\n      <td>...</td>\n      <td>2491468.0</td>\n      <td>2491472.0</td>\n      <td>Emberiza leucocephalos</td>\n      <td>Emberiza</td>\n      <td>Emberiza leucocephalos S.G.Gmelin, 1771</td>\n      <td>Emberiza leucocephalos</td>\n      <td>DWC_ARCHIVE</td>\n      <td>2020-06-08T17:16:09.759Z</td>\n      <td>2020-06-02T09:48:40.848Z</td>\n      <td>True</td>\n    </tr>\n    <tr>\n      <th>435575</th>\n      <td>2432439694</td>\n      <td>485743@XC</td>\n      <td>https://data.biodiversitydata.nl/xeno-canto/ob...</td>\n      <td>Stanislas Wroza</td>\n      <td>https://data.biodiversitydata.nl/xeno-canto/ob...</td>\n      <td>XC485743</td>\n      <td>Stanislas Wroza</td>\n      <td>flight call</td>\n      <td>NaN</td>\n      <td>NaN</td>\n      <td>...</td>\n      <td>2492321.0</td>\n      <td>5231198.0</td>\n      <td>Passer montanus</td>\n      <td>Passer</td>\n      <td>Passer montanus (Linnaeus, 1758)</td>\n      <td>Passer montanus</td>\n      <td>DWC_ARCHIVE</td>\n      <td>2020-06-08T17:16:09.759Z</td>\n      <td>2020-06-02T09:48:40.848Z</td>\n      <td>True</td>\n    </tr>\n    <tr>\n      <th>435576</th>\n      <td>2432439085</td>\n      <td>485761@XC</td>\n      <td>https://data.biodiversitydata.nl/xeno-canto/ob...</td>\n      <td>Stanislas Wroza</td>\n      <td>https://data.biodiversitydata.nl/xeno-canto/ob...</td>\n      <td>XC485761</td>\n      <td>Stanislas Wroza</td>\n      <td>flight call</td>\n      <td>NaN</td>\n      <td>NaN</td>\n      <td>...</td>\n      <td>2490241.0</td>\n      <td>2490244.0</td>\n      <td>Anthus hodgsoni</td>\n      <td>Anthus</td>\n      <td>Anthus hodgsoni Richmond, 1907</td>\n      <td>Anthus hodgsoni</td>\n      <td>DWC_ARCHIVE</td>\n      <td>2020-06-08T17:16:09.759Z</td>\n      <td>2020-06-02T09:48:40.848Z</td>\n      <td>True</td>\n    </tr>\n    <tr>\n      <th>435577</th>\n      <td>2432439499</td>\n      <td>485798@XC</td>\n      <td>https://data.biodiversitydata.nl/xeno-canto/ob...</td>\n      <td>Stanislas Wroza</td>\n      <td>https://data.biodiversitydata.nl/xeno-canto/ob...</td>\n      <td>XC485798</td>\n      <td>Stanislas Wroza</td>\n      <td>flight call</td>\n      <td>NaN</td>\n      <td>NaN</td>\n      <td>...</td>\n      <td>2491468.0</td>\n      <td>2491530.0</td>\n      <td>Emberiza chrysophrys</td>\n      <td>Emberiza</td>\n      <td>Emberiza chrysophrys Pallas, 1776</td>\n      <td>Emberiza chrysophrys</td>\n      <td>DWC_ARCHIVE</td>\n      <td>2020-06-08T17:16:09.759Z</td>\n      <td>2020-06-02T09:48:40.848Z</td>\n      <td>True</td>\n    </tr>\n  </tbody>\n</table>\n<p>435578 rows × 89 columns</p>\n</div>"
     },
     "metadata": {},
     "execution_count": 8
    }
   ],
   "source": [
    "occurrence_df"
   ]
  },
  {
   "cell_type": "code",
   "execution_count": 9,
   "metadata": {},
   "outputs": [
    {
     "output_type": "execute_result",
     "data": {
      "text/plain": "15819"
     },
     "metadata": {},
     "execution_count": 9
    }
   ],
   "source": [
    "occurrence_df['species'].isnull().sum()"
   ]
  },
  {
   "cell_type": "code",
   "execution_count": 10,
   "metadata": {
    "tags": [
     "outputPrepend",
     "outputPrepend",
     "outputPrepend",
     "outputPrepend",
     "outputPrepend",
     "outputPrepend",
     "outputPrepend",
     "outputPrepend",
     "outputPrepend",
     "outputPrepend",
     "outputPrepend",
     "outputPrepend"
    ]
   },
   "outputs": [
    {
     "output_type": "stream",
     "name": "stdout",
     "text": "a palumbus|Turdus philomelos|Prunella modularis|Emberiza citrinella\nhas background sounds: Batis pririt|Pycnonotus nigricans|Apalis thoracica|Urocolius indicus\nhas background sounds: Parus major|Certhia brachydactyla|Lophophanes cristatus|Columba palumbus\nhas background sounds: Columba palumbus|Certhia brachydactyla\nhas background sounds: Phylloscopus collybita|Sylvia melanocephala\nhas background sounds: Amazona amazonica|Cyclarhis gujanensis|Pheugopedius rutilus|Myrmotherula axillaris\nhas background sounds: Xiphorhynchus susurrans|Psarocolius decumanus|Amazilia tobaci|Amazona amazonica\nhas background sounds: Cuculus solitarius|Laniarius ferrugineus\nhas background sounds: Chrysococcyx cupreus|Camaroptera brachyura|Dryoscopus cubla|Cuculus solitarius|Columba delegorguei\nhas background sounds: Vireo olivaceus|Parkesia motacilla|Setophaga chrysoparia\nhas background sounds: Baeolophus atricristatus|Polioptila caerulea\nhas background sounds: Charadrius semipalmatus|Pluvialis squatarola\nhas background sounds: Corvus ossifragus|Charadrius vociferus|Quiscalus major\nhas background sounds: Philemon corniculatus|Pachycephala rufiventris\nhas background sounds: Pyrrhula pyrrhula|Lophophanes cristatus\nhas background sounds: Camaroptera brevicaudata|Cinnyricinclus leucogaster|Emberiza flaviventris|Chrysococcyx klaas|Mirafra africana\nhas background sounds: Pachycephala rufiventris|Rhipidura albiscapa|Trichoglossus moluccanus|Cracticus torquatus\nhas background sounds: Coloeus monedula|Turdus merula|Columba palumbus|Erithacus rubecula|Streptopelia decaocto\nhas background sounds: Cisticola erythrops|Turtur afer|Andropadus importunus|Tauraco livingstonii|Ploceus ocularis|Pternistis afer|Prinia subflava|Pycnonotus tricolor\nhas background sounds: Myiarchus tyrannulus|Cyanocorax chrysops\nhas background sounds: Cyanocitta stelleri|Spinus pinus\nhas background sounds: Passer montanus|Fringilla coelebs|Columba palumbus|Alectoris rufa|Coloeus monedula|Motacilla alba|Turdus merula|Troglodytes troglodytes\nhas background sounds: Furnarius cinnamomeus|Melanopareia elegans|Sporophila simplex\nhas background sounds: Formicarius analis|Thamnophilus bridgesi|Thryophilus rufalbus|Cercomacroides tyrannina\nhas background sounds: Coereba flaveola|Momotus bahamensis|Amazona amazonica\nhas background sounds: Hypsipetes borbonicus|Pycnonotus jocosus|Foudia madagascariensis|Zosterops borbonicus|Saxicola tectes\nhas background sounds: Fringilla coelebs|Porphyrio porphyrio|Cettia cetti|Cyanistes teneriffae|Fulica atra\nhas background sounds: Pycnonotus jocosus|Zosterops borbonicus|Zosterops olivaceus\nhas background sounds: Parus major|Emberiza citrinella|Corvus corone|Phasianus colchicus|Alectoris rufa\nhas background sounds: Troglodytes troglodytes|Phasianus colchicus|Alauda arvensis|Fringilla coelebs|Corvus corone|Emberiza calandra\nhas background sounds: Turdus migratorius|Thryomanes bewickii|Setophaga aestiva|Dryobates scalaris|Setophaga auduboni|Pyrocephalus obscurus|Leiothlypis luciae|Agelaius phoeniceus|Melanerpes uropygialis|Auriparus flaviceps\nhas background sounds: Pellorneum albiventre\nhas background sounds: Athene noctua|Troglodytes troglodytes|Corvus corone|Phasianus colchicus\nhas background sounds: Parus major|Fringilla coelebs|Columba palumbus|Phasianus colchicus|Corvus corone|Troglodytes troglodytes|Alectoris rufa\nhas background sounds: Cossypha caffra|Pternistis natalensis|Terpsiphone viridis\nhas background sounds: Sturnus vulgaris|Corvus cornix\nhas background sounds: Cossypha caffra|Colius striatus\nhas background sounds: Pycnonotus xanthopygos|Passer domesticus|Corvus cornix\nhas background sounds: Hypsipetes amaurotis|Emberiza elegans|Horornis diphone\nhas background sounds: Hypsipetes amaurotis|Sittiparus varius|Milvus migrans|Zosterops japonicus\nhas background sounds: Turdus merula|Alopochen aegyptiaca|Troglodytes troglodytes|Larus fuscus|Prunella modularis|Psittacula krameri|Phylloscopus collybita|Parus major\nhas background sounds: Anas crecca|Spatula querquedula\nhas background sounds: Dendrocopos major|Turdus merula|Turdus iliacus|Corvus cornix|Parus major|Erithacus rubecula|Turdus philomelos\nhas background sounds: Thryomanes bewickii|Pipilo maculatus|Zenaida macroura\nhas background sounds: Troglodytes troglodytes|Fringilla coelebs|Turdus merula|Prunella modularis|Phasianus colchicus|Phylloscopus collybita|Corvus corone\nhas background sounds: Phylloscopus collybita|Prunella modularis|Turdus philomelos|Phasianus colchicus|Columba palumbus|Emberiza citrinella\nhas background sounds: Alauda arvensis|Erithacus rubecula|Phasianus colchicus\nhas background sounds: Melospiza melodia|Cardinalis cardinalis|Streptopelia decaocto|Melozone aberti|Auriparus flaviceps|Setophaga auduboni\nhas background sounds: Columba palumbus|Fringilla coelebs|Cyanistes caeruleus|Parus major|Erithacus rubecula|Turdus merula|Sitta europaea\nhas background sounds: Agelaius phoeniceus|Anas platyrhynchos|Aix sponsa|Troglodytes pacificus|Cyanocitta stelleri\nhas background sounds: Melozone crissalis|Melanerpes uropygialis|Myiarchus cinerascens|Mimus polyglottos|Dryobates scalaris|Icterus cucullatus|Melanerpes formicivorus|Vireo cassinii\nhas background sounds: Phasianus colchicus|Streptopelia decaocto|Columba palumbus|Corvus corone|Erithacus rubecula\nhas background sounds: Haemorhous mexicanus|Zenaida asiatica|Tyrannus crassirostris|Campylorhynchus brunneicapillus|Melanerpes uropygialis\nhas background sounds: Haemorhous mexicanus|Tyrannus vociferans|Passer domesticus|Tyrannus crassirostris|Melanerpes uropygialis|Icterus cucullatus|Setophaga auduboni|Leiothlypis celata\nhas background sounds: Troglodytes aedon|Amazona festiva|Tyrannus melancholicus|Todirostrum maculatum|Tolmomyias sulphurescens|Pachyramphus castaneus|Camptostoma obsoletum\nhas background sounds: Troglodytes troglodytes|Cuculus canorus|Parus major|Emberiza calandra|Fringilla coelebs|Serinus serinus|Emberiza cirlus\nhas background sounds: Phylloscopus collybita|Linaria cannabina|Cyanistes caeruleus|Chloris chloris\nhas background sounds: Zosterops japonicus|Corvus macrorhynchos|Hypsipetes amaurotis|Cyanoptila cyanomelana|Urosphena squameiceps\nhas background sounds: Fringilla coelebs|Turdus philomelos|Spinus spinus|Chloris chloris|Erithacus rubecula\nhas background sounds: Alectoris rufa|Emberiza citrinella|Phasianus colchicus|Turdus philomelos|Phasianus colchicus|Columba palumbus\nhas background sounds: Passerina cyanea|Cyanocitta cristata|Troglodytes aedon|Vireo olivaceus\nhas background sounds: Junco hyemalis|Spinus pinus|Setophaga auduboni|Sitta carolinensis|Picoides dorsalis|Certhia americana|Sitta canadensis\nhas background sounds: Phylloscopus trochilus|Corvus corone|Dendrocopos major|Turdus philomelos|Cyanistes caeruleus\nhas background sounds: Turdus iliacus|Turdus pilaris|Numenius arquata|Corvus cornix|Emberiza citrinella\nhas background sounds: Turdus merula|Parus major|Cyanistes caeruleus|Phasianus colchicus|Alectoris rufa\nhas background sounds: Fringilla coelebs|Turdus merula|Sylvia atricapilla|Erithacus rubecula|Prunella modularis\nhas background sounds: Sylvia atricapilla|Erithacus rubecula|Columba palumbus\nhas background sounds: Botaurus stellaris|Anser anser\nhas background sounds: Botaurus stellaris|Circus aeruginosus|Grus grus|Emberiza schoeniclus|Turdus iliacus\nhas background sounds: Fulica atra|Acrocephalus schoenobaenus|Acrocephalus scirpaceus|Emberiza schoeniclus|Locustella luscinioides\nhas background sounds: Parus major|Athene noctua|Troglodytes troglodytes|Prunella modularis|Turdus merula|Phasianus colchicus\nhas background sounds: Phylloscopus trochilus|Phasianus colchicus|Sylvia atricapilla|Prunella modularis|Columba palumbus\nhas background sounds: Fringilla coelebs|Cyanistes caeruleus|Emberiza citrinella|Columba palumbus|Phasianus colchicus|Linaria cannabina|Prunella modularis\nhas background sounds: Erithacus rubecula|Dendrocopos major|Prunella modularis|Picus viridis|Dryobates minor|Turdus philomelos|Corvus corone|Troglodytes troglodytes\nhas background sounds: Agelaius phoeniceus|Melospiza melodia|Molothrus ater\nhas background sounds: Lyrurus tetrix|Motacilla alba|Larus canus\nhas background sounds: Corvus corone|Troglodytes troglodytes|Columba palumbus|Turdus philomelos|Dendrocopos major|Coloeus monedula|Phasianus colchicus|Phylloscopus collybita|Corvus frugilegus|Pica pica|Cyanistes caeruleus\nhas background sounds: Corvus corone|Anthus pratensis|Turdus merula|Fringilla coelebs|Cyanistes caeruleus|Columba palumbus|Phasianus colchicus\nhas background sounds: Pnoepyga formosana|Locustella alishanensis\nhas background sounds: Chloris chloris|Passer domesticus|Corvus cornix|Alauda arvensis|Fringilla coelebs|Larus canus|Cygnus cygnus|Sturnus vulgaris|Columba palumbus|Branta leucopsis|Anser albifrons|Cyanistes caeruleus|Emberiza citrinella|Parus major\nhas background sounds: Gallus gallus|Chloris chloris|Corvus frugilegus|Dendrocopos major|Linaria cannabina\nhas background sounds: Turdus merula|Emberiza citrinella|Cyanistes caeruleus|Oriolus oriolus|Passer montanus\nhas background sounds: Sylvia communis|Turdus merula|Emberiza citrinella|Phasianus colchicus|Columba palumbus|Emberiza calandra|Troglodytes troglodytes\nhas background sounds: Myiothlypis nigrocristata|Arremon assimilis|Turdus fuscater\nhas background sounds: Anas crecca|Fringilla coelebs|Chroicocephalus ridibundus|Turdus merula\nhas background sounds: Emberiza schoeniclus|Botaurus stellaris|Phasianus colchicus|Fulica atra|Mareca strepera\nhas background sounds: Streptopelia capicola|Andropadus importunus|Laniarius ferrugineus\nhas background sounds: Anser anser|Cyanistes caeruleus\nhas background sounds: Phylloscopus trochilus|Cuculus canorus|Acrocephalus scirpaceus\nhas background sounds: Parus major|Cuculus canorus|Erithacus rubecula|Fringilla coelebs|Phylloscopus trochilus|Columba palumbus\nhas background sounds: Acrocephalus scirpaceus|Botaurus stellaris|Branta canadensis\nhas background sounds: Taraba major|Cyanocorax affinis|Poliocrania exsul|Xiphorhynchus susurrans|Hylopezus perspicillatus|Pionus menstruus\nhas background sounds: Sylvia atricapilla|Anser anser|Parus major|Acrocephalus scirpaceus|Branta canadensis|Cuculus canorus|Phylloscopus collybita\nhas background sounds: Crypturellus soui|Hylophilus decurtatus\nhas background sounds: Acrocephalus scirpaceus|Emberiza schoeniclus|Corvus corone|Cyanistes caeruleus|Parus major|Anser anser|Fulica atra\nhas background sounds: Phylloscopus trochilus|Turdus philomelos|Sylvia curruca|Turdus merula|Phasianus colchicus|Columba palumbus|Fringilla coelebs\nhas background sounds: Fringilla coelebs|Turdus merula|Corvus corone|Alauda arvensis|Emberiza citrinella\nhas background sounds: Turdus philomelos|Emberiza citrinella|Alectoris rufa\nhas background sounds: Fringilla coelebs|Corvus cornix|Streptopelia decaocto\nhas background sounds: Athene noctua|Streptopelia decaocto|Cyanistes caeruleus|Troglodytes troglodytes|Phasianus colchicus\nhas background sounds: Acrocephalus scirpaceus|Troglodytes troglodytes|Tachybaptus ruficollis|Cettia cetti|Sylvia atricapilla\nhas background sounds: Acrocephalus stentoreus|Prinia gracilis|Himantopus himantopus\nhas background sounds: Sylvia atricapilla|Bubulcus ibis|Tringa nebularia|Cettia cetti|Phylloscopus collybita|Turdus merula|Locustella luscinioides\nhas background sounds: Acrocephalus scirpaceus|Locustella luscinioides|Cettia cetti|Acrocephalus schoenobaenus|Tachybaptus ruficollis\nhas background sounds: Psittacula himalayana|Culicicapa ceylonensis\nhas background sounds: Phasianus colchicus|Turdus philomelos|Troglodytes troglodytes|Sylvia communis|Phylloscopus trochilus|Phasianus colchicus|Columba palumbus\nhas background sounds: Emberiza hortulana|Emberiza citrinella\nhas background sounds: Sylvia communis|Phasianus colchicus|Prunella modularis|Turdus philomelos|Turdus merula|Linaria cannabina\nhas background sounds: Luscinia megarhynchos|Cettia cetti|Serinus serinus\nhas background sounds: Turdus merula|Estrilda astrild|Cettia cetti|Carduelis carduelis|Cyanopica cooki\nhas background sounds: Emberiza citrinella|Alectoris rufa|Phasianus colchicus|Turdus merula|Prunella modularis|Larus argentatus|Sylvia communis|Troglodytes troglodytes\nhas background sounds: Pternistis erckelii\nhas background sounds: Certhia brachydactyla|Sylvia melanocephala\nhas background sounds: Sylvia communis|Sylvia curruca|Emberiza citrinella|Phylloscopus trochilus|Cyanistes caeruleus|Turdus merula|Phasianus colchicus\nhas background sounds: Erithacus rubecula|Turdus merula|Cyanistes caeruleus\nhas background sounds: Patagioenas plumbea|Cymbilaimus lineatus|Thamnomanes caesius|Myrmotherula axillaris\nhas background sounds: Streptopelia decaocto|Sylvia melanocephala\nhas background sounds: Spizella passerina|Cardinalis cardinalis|Melanerpes carolinus|Spizella pusilla\nhas background sounds: Periparus ater|Cyanoptila cyanomelana\nhas background sounds: Melanerpes carolinus|Turdus migratorius|Dumetella carolinensis\nhas background sounds: Phylloscopus collybita|Carduelis carduelis|Prunella modularis|Columba palumbus|Emberiza citrinella\nhas background sounds: Patagioenas plumbea|Taraba major|Campylorhynchus turdinus|Psarocolius angustifrons\nhas background sounds: Cyanistes caeruleus|Turdus philomelos|Columba palumbus\nhas background sounds: Icteria virens|Calypte anna\nhas background sounds: Emberiza schoeniclus|Cuculus canorus|Fringilla montifringilla\nhas background sounds: Emberiza citrinella|Emberiza hortulana|Coccothraustes coccothraustes\nhas background sounds: Branta canadensis|Sayornis phoebe\nhas background sounds: Troglodytes troglodytes|Turdus merula|Turdus philomelos|Alauda arvensis|Linaria cannabina\nhas background sounds: Tarsiger indicus|Regulus goodfellowi|Trochalopteron morrisonianum|Brachypteryx goodfellowi\nhas background sounds: Parus major|Passer montanus|Streptopelia decaocto|Columba palumbus|Turdus philomelos|Prunella modularis\nhas background sounds: Pycnonotus barbatus|Pogoniulus chrysoconus\nhas background sounds: Phylloscopus sibilatrix|Phylloscopus collybita|Turdus merula\nhas background sounds: Cymbilaimus lineatus|Hafferia fortis|Querula purpurata\nhas background sounds: Troglodytes aedon|Turdus migratorius|Agelaius phoeniceus\nhas background sounds: Turdus merula|Fringilla coelebs|Dendrocopos major\nhas background sounds: Troglodytes troglodytes|Fringilla coelebs|Corvus frugilegus|Emberiza citrinella\nhas background sounds: Sylvia communis|Turdus merula|Columba palumbus|Corvus frugilegus|Streptopelia decaocto\nhas background sounds: Fringilla coelebs|Grus grus|Turdus philomelos\nhas background sounds: Luscinia luscinia|Turdus merula|Gallinago gallinago\nhas background sounds: Turdus merula|Emberiza schoeniclus|Anas platyrhynchos\nhas background sounds: Dryobates pubescens|Melospiza melodia|Agelaius phoeniceus|Branta canadensis\nhas background sounds: Ficedula hypoleuca|Turdus philomelos|Phylloscopus sibilatrix|Fringilla coelebs|Turdus merula\nhas background sounds: Sciaphylax hemimelaena|Brotogeris cyanoptera\nhas background sounds: Fringilla coelebs|Turdus philomelos|Larus argentatus|Columba palumbus\nhas background sounds: Acrocephalus scirpaceus|Cuculus canorus|Cyanistes caeruleus|Emberiza schoeniclus\nhas background sounds: Corvus cornix|Phylloscopus trochilus|Phylloscopus collybita|Fringilla coelebs|Carpodacus erythrinus|Spinus spinus\nhas background sounds: Cyanoptila cyanomelana|Parus minor|Hypsipetes amaurotis\nhas background sounds: Turdus merula|Troglodytes troglodytes|Sylvia communis|Columba palumbus|Linaria cannabina|Phasianus colchicus|Corvus corone\nhas background sounds: Geopelia humeralis|Coracina papuensis\nhas background sounds: Geopelia placida|Geopelia humeralis|Climacteris melanurus|Coracina papuensis|Corvus orru\nhas background sounds: Corvus orru|Philemon argenticeps|Geopelia humeralis|Geopelia placida|Climacteris melanurus|Smicrornis brevirostris|Pardalotus striatus\nhas background sounds: Saltator coerulescens|Aratinga weddellii|Legatus leucophaius|Dendrexetastes rufigula\nhas background sounds: Ficedula narcissina|Phylloscopus coronatus|Aegithalos caudatus\nhas background sounds: Cyanoptila cyanomelana|Phylloscopus coronatus|Zosterops japonicus|Picus awokera|Corvus macrorhynchos|Sittiparus varius|Hypsipetes amaurotis\nhas background sounds: Sturnus vulgaris|Turdus philomelos|Streptopelia decaocto|Corvus corone|Phasianus colchicus|Troglodytes troglodytes\nhas background sounds: Erithacus rubecula|Corvus corone|Turdus philomelos|Columba palumbus|Streptopelia decaocto|Emberiza citrinella|Prunella modularis\nhas background sounds: Phylloscopus coronatus|Cyanoptila cyanomelana|Pericrocotus divaricatus\nhas background sounds: Turdus merula|Alauda arvensis|Phasianus colchicus|Carduelis carduelis\nhas background sounds: Sylvia communis|Phylloscopus trochilus|Phasianus colchicus|Motacilla flava\nhas background sounds: Troglodytes troglodytes|Fringilla coelebs|Periparus ater|Parus major\nhas background sounds: Anas platyrhynchos|Gallus gallus\nhas background sounds: Prinia socialis|Vanellus indicus|Streptopelia decaocto\nhas background sounds: Oriolus oriolus|Phylloscopus collybita|Phasianus colchicus|Sylvia atricapilla|Emberiza citrinella|Streptopelia turtur|Luscinia megarhynchos\nhas background sounds: Turdus merula|Sylvia atricapilla|Cyanopica cooki|Sylvia melanocephala\nhas background sounds: Thamnophilus stictocephalus|Crypturellus strigulosus\nhas background sounds: Icteria virens|Troglodytes aedon|Setophaga aestiva|Empidonax difficilis\nhas background sounds: Prunella modularis|Turdus philomelos|Corvus corone|Columba palumbus|Phasianus colchicus|Passer montanus|Linaria cannabina\nhas background sounds: Haemorhous mexicanus|Chamaea fasciata|Calypte anna|Spinus psaltria|Mimus polyglottos|Aphelocoma californica|Pipilo maculatus\nhas background sounds: Phylloscopus fuscatus|Ficedula albicilla|Sylvia communis|Cuculus optatus|Emberiza spodocephala|Gallinago megala\nhas background sounds: Melospiza melodia|Toxostoma redivivum|Geothlypis trichas|Melozone crissalis\nhas background sounds: Zosterops japonicus|Ficedula narcissina|Yungipicus kizuki|Hypsipetes amaurotis\nhas background sounds: Troglodytes troglodytes|Fringilla coelebs|Emberiza citrinella|Phylloscopus trochilus|Turdus merula|Columba palumbus|Linaria cannabina\nhas background sounds: Fringilla coelebs|Corvus corone|Turdus merula|Columba palumbus|Troglodytes troglodytes|Corvus corone\nhas background sounds: Emberiza calandra|Fringilla coelebs|Corvus corone\nhas background sounds: Phylloscopus trochilus|Fringilla coelebs|Phylloscopus collybita|Luscinia megarhynchos|Anthus trivialis|Cuculus canorus\nhas background sounds: Cacomantis merulinus|Rhipidura javanica\nhas background sounds: Sylvia atricapilla|Erithacus rubecula|Acrocephalus scirpaceus|Acrocephalus schoenobaenus|Aegithalos caudatus|Phylloscopus trochilus\nhas background sounds: Psittacula krameri|Turdus merula|Columba palumbus|Apus apus|Erithacus rubecula|Troglodytes troglodytes\nhas background sounds: Formicarius analis|Crypturellus undulatus|Crypturellus atrocapillus\nhas background sounds: Glaucidium hardyi|Momotus momota|Crypturellus undulatus\nhas background sounds: Coccothraustes coccothraustes|Carpodacus erythrinus\nhas background sounds: Oriolus chinensis|Urosphena squameiceps|Phasianus colchicus|Aegithalos caudatus|Turdus hortulorum|Streptopelia orientalis|Picus canus\nhas background sounds: Cyanoptila cyanomelana|Troglodytes troglodytes\nhas background sounds: Phylloscopus trochilus|Phasianus colchicus|Linaria cannabina|Columba palumbus|Corvus corone|Carduelis carduelis\nhas background sounds: Collocalia linchi\nhas background sounds: Emberiza calandra|Galerida cristata|Sylvia melanocephala\nhas background sounds: Hylophilus hypoxanthus|Myiopagis gaimardii\nhas background sounds: Eudynamys scolopaceus|Accipiter badius\nhas background sounds: Pycnonotus barbatus|Hirundo smithii\nhas background sounds: Myioborus miniatus|Scytalopus micropterus\nhas background sounds: Corvus macrorhynchos|Liocichla steerii|Abroscopus albogularis\n"
    }
   ],
   "source": [
    "unqiue_taxa = occurrence_df['associatedTaxa'].unique()\n",
    "\n",
    "for taxa in unqiue_taxa:\n",
    "    print(taxa)"
   ]
  },
  {
   "cell_type": "code",
   "execution_count": 11,
   "metadata": {},
   "outputs": [
    {
     "output_type": "execute_result",
     "data": {
      "text/plain": "Index(['gbifID', 'identifier', 'references', 'rightsHolder', 'occurrenceID',\n       'catalogNumber', 'recordedBy', 'behavior', 'associatedTaxa',\n       'occurrenceRemarks', 'associatedOccurrences', 'previousIdentifications',\n       'eventDate', 'eventTime', 'year', 'month', 'day', 'verbatimEventDate',\n       'fieldNotes', 'countryCode', 'locality', 'verbatimElevation',\n       'decimalLatitude', 'decimalLongitude', 'georeferencedBy',\n       'geologicalContextID', 'earliestEpochOrLowestSeries',\n       'latestEpochOrHighestSeries', 'earliestAgeOrLowestStage',\n       'latestAgeOrHighestStage', 'lowestBiostratigraphicZone',\n       'highestBiostratigraphicZone', 'lithostratigraphicTerms', 'formation',\n       'bed', 'identificationQualifier', 'typeStatus', 'identifiedBy',\n       'identificationVerificationStatus', 'identificationRemarks', 'taxonID',\n       'acceptedNameUsageID', 'taxonConceptID', 'scientificName',\n       'acceptedNameUsage', 'parentNameUsage', 'originalNameUsage',\n       'nameAccordingTo', 'namePublishedIn', 'namePublishedInYear',\n       'higherClassification', 'kingdom', 'phylum', 'class', 'order', 'family',\n       'genus', 'subgenus', 'specificEpithet', 'infraspecificEpithet',\n       'taxonRank', 'verbatimTaxonRank', 'vernacularName', 'nomenclaturalCode',\n       'taxonomicStatus', 'datasetKey', 'publishingCountry', 'lastInterpreted',\n       'issue', 'mediaType', 'hasCoordinate', 'hasGeospatialIssues',\n       'taxonKey', 'acceptedTaxonKey', 'kingdomKey', 'phylumKey', 'classKey',\n       'orderKey', 'familyKey', 'genusKey', 'speciesKey', 'species',\n       'genericName', 'acceptedScientificName', 'verbatimScientificName',\n       'protocol', 'lastParsed', 'lastCrawled', 'repatriated'],\n      dtype='object')"
     },
     "metadata": {},
     "execution_count": 11
    }
   ],
   "source": [
    "occurrence_df.columns"
   ]
  },
  {
   "cell_type": "code",
   "execution_count": 38,
   "metadata": {},
   "outputs": [
    {
     "output_type": "execute_result",
     "data": {
      "text/plain": "array(['b1047888-ae52-4179-9dd5-5448ea342a24', nan], dtype=object)"
     },
     "metadata": {},
     "execution_count": 38
    }
   ],
   "source": [
    "occurrence_df['datasetKey'].unique()"
   ]
  },
  {
   "cell_type": "markdown",
   "metadata": {},
   "source": [
    "# species info columns\n",
    "\n",
    "* genus \n",
    "* scientific name \n",
    "* name"
   ]
  },
  {
   "cell_type": "code",
   "execution_count": 13,
   "metadata": {},
   "outputs": [],
   "source": [
    "#occurrence_df['decimal_latitude'].unique()"
   ]
  },
  {
   "cell_type": "code",
   "execution_count": 14,
   "metadata": {},
   "outputs": [
    {
     "output_type": "execute_result",
     "data": {
      "text/plain": "'05:00'"
     },
     "metadata": {},
     "execution_count": 14
    }
   ],
   "source": [
    "occurrence_df['eventTime'].iloc[0]"
   ]
  },
  {
   "cell_type": "code",
   "execution_count": 15,
   "metadata": {},
   "outputs": [
    {
     "output_type": "execute_result",
     "data": {
      "text/plain": "2019.0"
     },
     "metadata": {},
     "execution_count": 15
    }
   ],
   "source": [
    "occurrence_df['year'].iloc[0]"
   ]
  },
  {
   "cell_type": "code",
   "execution_count": 16,
   "metadata": {
    "tags": [
     "outputPrepend",
     "outputPrepend",
     "outputPrepend"
    ]
   },
   "outputs": [
    {
     "output_type": "execute_result",
     "data": {
      "text/plain": "5719"
     },
     "metadata": {},
     "execution_count": 16
    }
   ],
   "source": [
    "unqiue_behaviors = occurrence_df['behavior'].fillna(\"\").unique()\n",
    "\n",
    "behaviors_arr = []\n",
    "\n",
    "for behaviors in unqiue_behaviors:\n",
    "    #seperate sample behaviors and append to array\n",
    "    split_behaviors = [behavior.strip().lower() for behavior in behaviors.split(',')] # remove leading and trailinf white spaces and set to lower case\n",
    "    #remove double quotes\n",
    "    split_behaviors = [behavior.replace('\"', '') for behavior in split_behaviors]\n",
    "    #remove single quotes    \n",
    "    split_behaviors = [behavior.replace(\"'\", '') for behavior in split_behaviors]\n",
    "    behaviors_arr += split_behaviors\n",
    "\n",
    "\n",
    "\n",
    "def unclear_behavior(behavior):\n",
    "    if '?' in behavior or not behavior:\n",
    "        return True\n",
    "    if \"uncertain\" in behavior:\n",
    "        return True\n",
    "    #check if behavior has only alphabetical letters or spaces \n",
    "    if not all(char.isalpha() or char.isspace() for char in behavior):\n",
    "        return True\n",
    "\n",
    "    return False\n",
    "\n",
    "cleaned_behaviors_arr = []\n",
    "for behavior in behaviors_arr:\n",
    "    # add if not question mark and not empty\n",
    "    if not unclear_behavior(behavior):\n",
    "        cleaned_behaviors_arr.append(behavior)\n",
    "\n",
    "unique_cleaned_behaviors_arr = np.unique(cleaned_behaviors_arr)\n",
    "\n",
    "cleaned_behaviors_arr\n",
    "len(unique_cleaned_behaviors_arr)\n",
    "#unique_cleaned_behaviors_arr\n",
    "#cleaned_behaviors_arr"
   ]
  },
  {
   "cell_type": "code",
   "execution_count": 17,
   "metadata": {},
   "outputs": [
    {
     "output_type": "execute_result",
     "data": {
      "text/plain": "['song',\n 'alarm call',\n 'call',\n 'song',\n 'begging call',\n 'juvenile',\n 'flight call',\n 'call',\n 'flight call',\n 'chatter',\n 'flight call',\n 'female',\n 'male',\n 'song',\n 'call',\n 'male',\n 'song',\n 'call',\n 'male',\n 'huit call',\n 'tak call',\n 'call',\n 'flight call',\n 'two types of calls in flight',\n 'call',\n 'juvenile',\n 'alarm call',\n 'call',\n 'flight call',\n 'juvenile',\n 'begging call',\n 'call',\n 'juvenile',\n 'flight call',\n 'song',\n 'wing flapping',\n 'allarm calls',\n 'alarm call',\n 'call',\n 'juvenile',\n 'rattle',\n 'calls',\n 'song',\n 'song in display',\n 'begging call',\n 'hatchling or nestling',\n 'alarm call',\n 'call',\n 'flight call',\n 'song',\n 'flight call',\n 'nocturnal flight call',\n 'alarm call',\n 'song',\n 'alarm call',\n 'call',\n 'metallic call',\n 'bill clapping',\n 'alarm call',\n 'call',\n 'female',\n 'call',\n 'female',\n 'alarm call',\n 'begging call',\n 'call',\n 'female',\n 'flight call',\n 'juvenile',\n 'male',\n 'song',\n 'display',\n 'song',\n 'begging call',\n 'call',\n 'female',\n 'juvenile',\n 'male',\n 'flight call',\n 'juvenile',\n 'alarm call',\n 'flight call',\n 'alarm call',\n 'call',\n 'flight call',\n 'alarm call',\n 'call',\n 'song',\n 'call',\n 'call',\n 'various calls',\n 'begging call',\n 'begging call',\n 'call',\n 'female',\n 'female calling youngs',\n 'whistle',\n 'female',\n 'whistle',\n 'alarm call',\n 'call',\n 'call',\n 'female',\n 'male',\n 'trill',\n 'call',\n 'trill',\n 'song',\n 'call',\n 'juvenile',\n 'song',\n 'wingbeats',\n 'flight call',\n 'male',\n 'call',\n 'female',\n 'song',\n 'juvenile',\n 'male',\n 'song',\n 'flight call',\n 'song',\n 'calls',\n 'nocturnal flight call',\n 'calls',\n 'song',\n 'flight call',\n 'night flight call',\n 'begging call',\n 'call',\n 'bill snapping',\n 'booming',\n 'call',\n 'tak call',\n 'call',\n 'alarm call',\n 'call',\n 'juvenile',\n 'various calls',\n 'call',\n 'female',\n 'juvenile',\n 'song',\n 'voice of fledglings',\n 'call',\n 'female',\n 'flight call',\n 'male',\n 'flight call',\n 'frogs',\n 'female',\n 'male',\n 'call',\n 'display call',\n 'call',\n 'female',\n 'flight call',\n 'juvenile',\n 'male',\n 'song',\n 'begging call',\n 'call',\n 'juvenile',\n 'voice from the nest',\n 'alarm call',\n 'female',\n 'call',\n 'drumming',\n 'foraging drumming from pileated woodpecker',\n 'song',\n 'nocturnal flight call',\n 'call',\n 'call',\n 'flight call',\n 'song',\n 'alarm call',\n 'begging call',\n 'call',\n 'female',\n 'full song',\n 'call',\n 'chips',\n 'wing sounds',\n 'night calls',\n 'alarm call',\n 'call',\n 'song',\n 'autumn migartion call',\n 'alarm call',\n 'call',\n 'female',\n 'male',\n 'nocturnal flight call',\n 'song',\n 'call',\n 'nocturnal',\n 'flight call',\n 'flock calls',\n 'song',\n 'alarm call',\n 'nocturnal flight call',\n 'srii call',\n 'call',\n 'alarm call',\n 'display wing call',\n 'drumming',\n 'call',\n 'drumming',\n 'male',\n 'call',\n 'flight call',\n 'call',\n 'insects and frogs',\n 'fluggesang',\n 'call',\n 'flight call',\n 'song',\n 'nocturnal flight call',\n 'flight call',\n 'flight call',\n 'plik call',\n 'collective calls',\n 'call',\n 'begging call',\n 'call',\n 'foraging calls',\n 'flight call',\n 'wind',\n 'song',\n 'call',\n 'chase phrases',\n 'alarm call',\n 'male',\n 'alarm call',\n 'call',\n 'female',\n 'male',\n 'song',\n 'wing beats',\n 'call',\n 'male',\n 'song',\n 'dawn song',\n 'duet',\n 'call',\n 'nocturnal flight call',\n 'interaction calls',\n 'song',\n 'squeeky calls during interaction',\n 'call',\n 'female',\n 'male',\n 'call',\n 'perched',\n 'flight call',\n 'nachtelijke opname',\n 'flight call',\n 'nocturnal flight call',\n 'song',\n 'drumming',\n 'song',\n 'call',\n 'female',\n 'call',\n 'flight call',\n 'nocturnal flight call',\n 'interaction calls',\n 'adult',\n 'song',\n 'adult',\n 'call',\n 'adult',\n 'call',\n 'flight call',\n 'adult',\n 'male',\n 'song',\n 'adult',\n 'dawn song',\n 'fringilla coelebs',\n 'adult',\n 'call',\n 'adult',\n 'call',\n 'female',\n 'call',\n 'flight call',\n 'song',\n 'adult',\n 'dawn song',\n 'male',\n 'adult',\n 'call',\n 'day song',\n 'female',\n 'nocturnal flight call',\n 'call',\n 'song',\n 'song',\n 'adult',\n 'song',\n 'adult',\n 'call',\n 'song',\n 'call',\n 'female',\n 'flight call',\n 'call',\n 'adult',\n 'call',\n 'male',\n 'song',\n 'begging call',\n 'juvenile',\n 'call',\n 'duet',\n 'flight call',\n 'adult',\n 'call',\n 'male',\n 'adult',\n 'call',\n 'song',\n 'adult',\n 'flight call',\n 'song',\n 'two birds',\n 'song',\n 'wingflutter',\n 'adult',\n 'call',\n 'flight call',\n 'song',\n 'chatter',\n 'call',\n 'juvenile',\n 'call',\n 'sweeoo call',\n 'adult',\n 'male',\n 'song',\n 'call',\n 'nisting call',\n 'adult',\n 'call',\n 'call',\n 'flight call',\n 'life stage uncert',\n 'duo',\n 'song',\n 'unusual call',\n 'flight call',\n 'long call',\n 'short call',\n 'call',\n 'soft feeding calls',\n 'call',\n 'flight call',\n 'wingbeats',\n 'alarm call',\n 'call',\n 'flight call',\n 'song',\n 'adult',\n 'female',\n 'male',\n 'call',\n 'subsong',\n 'adult',\n 'alarm call',\n 'begging call',\n 'juvenile',\n 'call',\n 'song',\n 'wingflaps',\n 'adult',\n 'call',\n 'juvenile',\n 'song',\n 'call',\n 'flight call',\n 'song',\n 'song flight',\n 'call',\n 'female',\n 'male',\n 'song',\n 'adult',\n 'call',\n 'female',\n 'male',\n 'adult',\n 'flight call',\n 'call',\n 'group song',\n 'song',\n 'adult',\n 'call',\n 'hatchling or nestling',\n 'adult',\n 'call',\n 'song',\n 'adult',\n 'call',\n 'juvenile',\n 'subsong',\n 'hatchling or nestling',\n 'wing training',\n 'adult',\n 'call',\n 'flight call',\n 'alarm call',\n 'bird in hand',\n 'wing beats',\n 'call',\n 'juvenile',\n 'call',\n 'flight call',\n 'juvenile',\n 'adult',\n 'alarm call',\n 'dawn song',\n 'adult',\n 'calling song',\n 'male',\n 'song',\n 'adult',\n 'female',\n 'male',\n 'song',\n 'peter peter peter',\n 'call',\n 'song',\n 'adult',\n 'adult',\n 'alarm call',\n 'female',\n 'male',\n 'half song',\n 'song',\n 'alarm call',\n 'call',\n 'flight call',\n 'small flock',\n 'begging call',\n 'call',\n 'juvenile',\n 'duet',\n 'female',\n 'male',\n 'song',\n 'adult',\n 'call',\n 'subsong',\n 'adult',\n 'alarm call',\n 'call',\n 'adult',\n 'call',\n 'female',\n 'male',\n 'song',\n 'call',\n 'juvenile',\n 'rattle call',\n 'adult',\n 'alarm call',\n 'nocturnal song',\n 'song',\n 'call',\n 'flight call',\n 'sharp ping call',\n 'aberrant',\n 'song',\n 'male',\n 'song',\n 'alarm call',\n 'bird in hand',\n 'call',\n 'group call',\n 'call',\n 'adult',\n 'male',\n 'adult',\n 'male',\n 'song',\n 'song in display',\n 'song',\n 'subsong',\n 'alarm call',\n 'drumming',\n 'duet',\n 'song',\n 'adult',\n 'female',\n 'flight call',\n 'male',\n 'bill snaps',\n 'call',\n 'song',\n 'subsong',\n 'adult',\n 'female',\n 'song',\n 'alarm call',\n 'alarm call',\n 'call',\n 'flight call',\n 'pine cones falling',\n 'adult',\n 'male',\n 'song',\n 'subsong',\n 'sii call',\n 'call',\n 'flight call',\n 'wing beats',\n 'dzieuh call',\n 'flight call',\n 'flight call',\n 'various calls',\n 'flight call',\n 'migrating bird',\n 'call',\n 'female',\n 'male',\n 'two males chasing each other',\n 'call',\n 'male',\n 'call',\n 'wingflaps',\n 'female',\n 'flight call',\n 'male',\n 'alarm call',\n 'adult',\n 'alarm call',\n 'male',\n 'otras aves',\n 'song',\n 'flight call',\n 'raspy call',\n 'tik call',\n 'flight call',\n 'alarm call',\n 'call',\n 'flight call',\n 'various calls',\n 'tik call',\n 'call',\n 'call',\n 'outburst',\n 'flight call',\n 'short calls',\n 'call',\n 'rattle',\n 'adult',\n 'call',\n 'flight call',\n 'male',\n 'tuk call',\n 'flight call',\n 'adult',\n 'call',\n 'rattle',\n 'song',\n 'call',\n 'sweeoo call',\n 'nocturnal flight call',\n 'song',\n 'song',\n 'adult',\n 'flight call',\n 'song',\n 'song',\n 'call',\n 'flight call',\n 'song',\n 'alarm call',\n 'call',\n 'song',\n 'adult',\n 'call',\n 'female',\n 'flight call',\n 'male',\n 'adult',\n 'alarm call',\n 'call',\n 'fight call',\n 'song',\n 'bird in h',\n 'adult',\n 'flight call',\n 'male',\n 'male',\n 'song',\n 'subsong',\n 'female',\n 'flight call',\n 'begging call',\n 'call',\n 'adult',\n 'alarm call',\n 'female',\n 'call',\n 'female',\n 'flight call',\n 'male',\n 'song',\n 'alarm call',\n 'female',\n 'male',\n 'song',\n 'call',\n 'flight call',\n 'short calls',\n 'call',\n 'duet',\n 'song',\n 'adult',\n 'alarm call',\n 'song',\n 'alarm call',\n 'song',\n 'female',\n 'song',\n 'drumming',\n 'male',\n 'call',\n 'begging',\n 'chatter',\n 'interaction calls of pair',\n 'slow piping song',\n 'normal song or call',\n 'alarm call',\n 'dawn song',\n 'song during display flight',\n 'calls during a agonistic encounter',\n 'song',\n 'call',\n 'call',\n 'taking flight',\n 'song',\n 'lekking',\n 'song',\n 'short',\n 'song',\n 'wing noise',\n 'display',\n 'short calls',\n 'contact call',\n 'contact call',\n 'display song in flight',\n 'wing whirs',\n 'song or call',\n 'alternate song',\n 'loudsong',\n 'weeeo call',\n 'calls at lek',\n 'scold from ground and in flight',\n 'a single song',\n 'trilled calls',\n 'instrumental song',\n 'song on first part',\n 'song after pb',\n 'calls',\n 'male',\n 'seet call',\n 'scold',\n 'call of group',\n 'display call',\n 'contact calls',\n 'song',\n 'song',\n 'call and song',\n 'two birds',\n 'alternate call',\n 'song response to playback',\n 'male position note',\n 'lekking song',\n 'clucking',\n 'lekking',\n 'song at dawn',\n 'call',\n 'song',\n 'alternative song',\n 'roding',\n 'calls of adult near young',\n 'calls by pair',\n 'dwidip call',\n 'calls of a perched flock',\n 'calls from large flock low over the ground',\n 'relaxed call',\n 'call from wire',\n 'scold',\n 'predator alarm call',\n 'calls at nest',\n 'calls',\n 'flight call',\n 'call and wing sound',\n 'call',\n 'song group',\n 'song after playback',\n 'call during copulation',\n 'purweer song',\n 'male subsong',\n 'flight call of immature',\n 'chatter and wingflutter pair',\n 'single notes and chatter',\n 'flight calls of pair',\n 'wing sound and soft calls',\n 'short song',\n 'communication',\n 'fast song',\n 'alternate song',\n 'begging call of fledged juvenile',\n 'alarm cal when taking flight',\n 'prehistoric',\n 'wing noise of single taking off',\n 'snarling calls',\n 'calls from a large flock',\n 'calls from perch and in flight',\n 'rest after pb',\n 'song',\n 'call or song',\n 'presumed female call',\n 'nv',\n 'male call',\n 'pb',\n 'rug rat annoyance duet',\n 'song and calls',\n 'pb',\n 'song',\n 'pb',\n 'song in flight',\n 'brzk',\n 'presumably by a female',\n 'call',\n 'drum',\n 'colony',\n 'calls by pair at nest',\n 'calls at colony',\n 'long song',\n 'lek',\n 'pair alarm calling at cat',\n 'calls',\n 'slow and weak song',\n 'begging call',\n 'call',\n 'trill',\n 'dawn song',\n 'flight call',\n 'pew notes',\n 'whistle call',\n 'calls of older chicks in the nest',\n 'call',\n 'chatter',\n 'vocalizacao',\n 'response to playback',\n 'perched and then in flight',\n 'call',\n 'call',\n 'songs',\n 'contact calls',\n 'male song after playback',\n 'wingflap from male and call from female',\n 'allarmcall',\n 'display calls',\n 'contact calls of small group',\n 'call of female',\n 'subsong of a male',\n 'hissing calls of nestlings',\n 'female song',\n 'excitement and flight call',\n 'second song',\n 'male songs',\n 'wisthle and shrr calls',\n 'alarm call on human',\n 'song to female',\n 'call on ground',\n 'flight calls from flock',\n 'calls from flushed flock',\n 'flight calls of flock',\n 'alarm and contact calls',\n 'zeet call',\n 'chase calls',\n 'fledgling calls',\n 'drumming',\n 'call',\n 'female',\n 'male',\n 'song',\n 'whisper song',\n 'rattle',\n 'contact calls',\n 'begging calls',\n 'territorial call',\n 'trill',\n 'alternate song',\n 'call',\n 'fledgling call',\n 'calla',\n 'pw call',\n 'chek call',\n 'song',\n 'chatter',\n 'calls',\n 'chatter',\n 'chorus',\n 'flight and alarm calls',\n 'trilling call then foraging sounds',\n 'calls',\n 'drumming',\n 'calls',\n 'lekking',\n 'chip call',\n 'chip',\n 'call',\n 'partial long song',\n 'short song',\n 'jingle call',\n 'predator scold',\n 'rapid scolding call',\n 'calls',\n 'begging calls',\n 'call on migration',\n 'pair excitement calls',\n 'call',\n 'call of a pair',\n 'chase call',\n 'daytime song',\n 'plastic song',\n 'several birds',\n 'calls in the flight',\n 'alarm call',\n 'songflight',\n 'subsong and calls',\n 'flight song',\n 'flight song',\n 'chuff series',\n 'flight calls of male',\n 'call',\n 'song in duet',\n 'alarm notes',\n 'call',\n 'whistles',\n 'various different calls',\n 'call',\n 'half song',\n 'call',\n 'daytime song',\n 'call',\n 'song in duet',\n 'wing sounds and calls',\n 'dawn song',\n 'vocalizations while displaying',\n 'song type a',\n 'bill snaps',\n 'calls of a flock foraging in trees',\n 'call',\n 'excitement call',\n 'flight call',\n 'call or alarmcall',\n 'call and display',\n 'perched calls',\n 'calls',\n 'perched',\n 'calls while feeding',\n 'short',\n 'medium and long songs',\n 'complex song',\n 'song and wing snap',\n 'chip calls',\n 'song',\n 'call',\n 'female',\n 'male',\n 'song',\n 'call and whistle',\n 'chipping call',\n 'male song and call',\n 'male and female songs',\n 'call and trumpet call',\n 'call',\n 'long song',\n 'drumming and call',\n 'call agresion',\n 'call antagonistic',\n 'call',\n 'call',\n 'call',\n 'song',\n 'subsong',\n 'display song',\n 'alarm call',\n 'female',\n 'growl calls',\n 'soft song',\n 'courtship call',\n 'display song',\n 'tjatter and song',\n 'song',\n 'call',\n 'drum',\n 'unknown',\n 'song',\n 'wing sonations',\n 'probably alarm call',\n 'display',\n 'call and alarm call',\n 'lek display',\n 'duet',\n 'song',\n 'wing noise',\n 'song and chatter calls',\n 'night song',\n 'agitated calls',\n 'call allarm',\n 'song in the flight',\n 'calls befor takenig of',\n 'aggresive call',\n 'call',\n 'song with feeding',\n 'cries the young birds',\n 'dusk song',\n 'juvenile begging calls',\n 'calls in flight',\n 'female call',\n 'song',\n 'call',\n 'flight call',\n 'call when flushed',\n 'song',\n 'territorial song',\n 'call and drumming',\n 'calls',\n 'alarm',\n 'song',\n 'call',\n 'flight call',\n 'nest showing call',\n 'feeding',\n 'chip duet and screams',\n 'calls perched',\n 'wing sounds',\n 'song',\n 'call from male',\n 'chatter song',\n 'flight song',\n 'songs',\n 'high calls',\n 'male song',\n 'female calls',\n 'flight song',\n 'song',\n 'chatter song interaction',\n 'growling song chorus',\n 'calls',\n 'churring',\n 'interaction call',\n 'regular call',\n 'subdued chatter song or subsong',\n 'harsh call',\n 'song chorus from flock',\n 'flight calls then interaction duet calls',\n 'calls',\n 'harsh song intro',\n 'song',\n 'female',\n 'flight call',\n 'male',\n 'song',\n 'juvenile',\n 'call',\n 'song',\n 'dawn song',\n 'song',\n 'wing sounds',\n 'bill clappering',\n 'call',\n 'female',\n 'male',\n 'song',\n 'dueto',\n 'male',\n 'alarm call',\n 'begging call',\n 'fledglings',\n 'call',\n 'series of calls',\n 'excitement call',\n 'plastic song',\n 'call',\n 'flight call',\n 'male',\n 'song',\n 'call',\n 'night roosting',\n 'begging call',\n ...]"
     },
     "metadata": {},
     "execution_count": 17
    }
   ],
   "source": [
    "cleaned_behaviors_arr"
   ]
  },
  {
   "cell_type": "markdown",
   "metadata": {},
   "source": [
    "# Begin creation of species info df"
   ]
  },
  {
   "cell_type": "code",
   "execution_count": 18,
   "metadata": {},
   "outputs": [],
   "source": [
    "#speciesKey\tspecies\n",
    "\n",
    "species_name_key_df = occurrence_df[['speciesKey', 'species']]\n",
    "species_name_key_df['species'] = occurrence_df['species'].str.lower()\n",
    "\n",
    "species_key_dict = dict(zip(species_name_key_df['species'], species_name_key_df['speciesKey']))\n",
    "\n",
    "#sample dict template\n",
    "sample_dict = {\n",
    "    'gbifID' : None,\n",
    "    'recording_link' : None,\n",
    "    'decimal_latitude' : None,\n",
    "    'decimal_longitude': None,\n",
    "    'date' : None,\n",
    "    'behavior' : [],\n",
    "    'background_birds' : [],\n",
    "}\n",
    "\n",
    "def get_behavior(behaviors):\n",
    "    #check if behaviors string is empty, None or nan\n",
    "    if not behaviors or behaviors is None or pd.isnull(behaviors):\n",
    "        return []\n",
    "    #seperate sample behaviors and append to array\n",
    "    split_behaviors = [behavior.strip().lower() for behavior in behaviors.split(',')] # remove leading and trailinf white spaces and set to lower case\n",
    "    #remove double quotes\n",
    "    split_behaviors = [behavior.replace('\"', '') for behavior in split_behaviors]\n",
    "    #remove single quotes    \n",
    "    split_behaviors = [behavior.replace(\"'\", '') for behavior in split_behaviors]\n",
    "\n",
    "    return [behavior for behavior in split_behaviors if not unclear_behavior(behavior)]\n",
    "\n",
    "def get_species_key(sci_sepecies_name):\n",
    "    pass\n",
    "\n",
    "def get_associated_birds(associated_taxa):\n",
    "    #check if associated_taxa string is empty, None or nan\n",
    "    if not associated_taxa or associated_taxa is None or pd.isnull(associated_taxa):\n",
    "        return []\n",
    "    associated_taxa = associated_taxa.replace('has background sounds:', '')\n",
    "    split_taxa = [taxa.strip().lower() for taxa in associated_taxa.split('|')]\n",
    "    bird_species_keys = [species_key_dict[taxa] for taxa in split_taxa if species_key_dict.get(taxa) is not None]\n",
    "    return bird_species_keys\n",
    "\n",
    "samples_per_species = occurrence_df.groupby(['speciesKey'])\n",
    "\n",
    "data_dict = {}\n",
    "for species_key, samples in samples_per_species:\n",
    "    data_dict[species_key] = []\n",
    "    for index, sample in samples.iterrows():\n",
    "        gbifID = sample['gbifID']\n",
    "        decimal_latitude = sample['decimalLatitude']\n",
    "        decimal_longitude = sample['decimalLongitude']\n",
    "        date = sample['eventDate']\n",
    "        behavior = get_behavior(sample['behavior'])\n",
    "        associated_birds = get_associated_birds(sample['associatedTaxa'])\n",
    "\n",
    "        data_dict[species_key].append({\n",
    "            'gbifID' : gbifID,\n",
    "            'recording_link' : None,\n",
    "            'recording_time_sec' : None,\n",
    "            'decimal_latitude' : decimal_latitude,\n",
    "            'decimal_longitude': decimal_longitude,\n",
    "            'date' : date,\n",
    "            'behavior' : [],\n",
    "            'background_birds' : [],\n",
    "        })\n",
    "\n"
   ]
  },
  {
   "cell_type": "code",
   "execution_count": null,
   "metadata": {},
   "outputs": [],
   "source": [
    "samples_per_species = samples_per_species.size().sort_values(ascending=False)"
   ]
  },
  {
   "cell_type": "code",
   "execution_count": 21,
   "metadata": {},
   "outputs": [],
   "source": [
    "#samples_per_species.size()"
   ]
  },
  {
   "cell_type": "code",
   "execution_count": 22,
   "metadata": {},
   "outputs": [],
   "source": [
    "data_dictionary_df = pd.DataFrame()"
   ]
  },
  {
   "cell_type": "code",
   "execution_count": 23,
   "metadata": {},
   "outputs": [],
   "source": [
    "data_dictionary_df['gbifID'] = occurrence_df['gbifID']"
   ]
  },
  {
   "cell_type": "code",
   "execution_count": null,
   "metadata": {},
   "outputs": [],
   "source": []
  },
  {
   "cell_type": "code",
   "execution_count": 24,
   "metadata": {},
   "outputs": [
    {
     "output_type": "execute_result",
     "data": {
      "text/plain": "gbifID                    0\nidentifier                0\nreferences                0\nrightsHolder              0\noccurrenceID              0\n                         ..\nverbatimScientificName    5\nprotocol                  5\nlastParsed                5\nlastCrawled               5\nrepatriated               5\nLength: 89, dtype: int64"
     },
     "metadata": {},
     "execution_count": 24
    }
   ],
   "source": [
    "occurrence_df.isnull().sum()"
   ]
  },
  {
   "cell_type": "code",
   "execution_count": 25,
   "metadata": {},
   "outputs": [],
   "source": [
    "verbatim_df = pd.read_csv(os.path.join(gbif_path, 'verbatim.txt'), sep = '\\t')\n"
   ]
  },
  {
   "cell_type": "code",
   "execution_count": 26,
   "metadata": {},
   "outputs": [
    {
     "output_type": "execute_result",
     "data": {
      "text/plain": "            gbifID  abstract  accessRights  accrualMethod  accrualPeriodicity  \\\n0       2432439881       NaN           NaN            NaN                 NaN   \n1       2432440798       NaN           NaN            NaN                 NaN   \n2       2432439707       NaN           NaN            NaN                 NaN   \n3       2432440942       NaN           NaN            NaN                 NaN   \n4       2432440206       NaN           NaN            NaN                 NaN   \n...            ...       ...           ...            ...                 ...   \n435573  2432439860       NaN           NaN            NaN                 NaN   \n435574  2432439243       NaN           NaN            NaN                 NaN   \n435575  2432439694       NaN           NaN            NaN                 NaN   \n435576  2432439085       NaN           NaN            NaN                 NaN   \n435577  2432439499       NaN           NaN            NaN                 NaN   \n\n        accrualPolicy  alternative  audience  available  \\\n0                 NaN          NaN       NaN        NaN   \n1                 NaN          NaN       NaN        NaN   \n2                 NaN          NaN       NaN        NaN   \n3                 NaN          NaN       NaN        NaN   \n4                 NaN          NaN       NaN        NaN   \n...               ...          ...       ...        ...   \n435573            NaN          NaN       NaN        NaN   \n435574            NaN          NaN       NaN        NaN   \n435575            NaN          NaN       NaN        NaN   \n435576            NaN          NaN       NaN        NaN   \n435577            NaN          NaN       NaN        NaN   \n\n        bibliographicCitation  ...   taxonRank  verbatimTaxonRank  \\\n0                         NaN  ...     species                NaN   \n1                         NaN  ...     species                NaN   \n2                         NaN  ...     species                NaN   \n3                         NaN  ...     species                NaN   \n4                         NaN  ...  subspecies                NaN   \n...                       ...  ...         ...                ...   \n435573                    NaN  ...     species                NaN   \n435574                    NaN  ...     species                NaN   \n435575                    NaN  ...     species                NaN   \n435576                    NaN  ...     species                NaN   \n435577                    NaN  ...     species                NaN   \n\n        scientificNameAuthorship         vernacularName  nomenclaturalCode  \\\n0                            NaN    Siberian Rubythroat               ICZN   \n1                            NaN     Olive-backed Pipit               ICZN   \n2                            NaN         Arctic Warbler               ICZN   \n3                            NaN       Daurian Redstart               ICZN   \n4                            NaN          Red Crossbill               ICZN   \n...                          ...                    ...                ...   \n435573                       NaN           Common Snipe               ICZN   \n435574                       NaN           Pine Bunting               ICZN   \n435575                       NaN  Eurasian Tree Sparrow               ICZN   \n435576                       NaN     Olive-backed Pipit               ICZN   \n435577                       NaN  Yellow-browed Bunting               ICZN   \n\n        taxonomicStatus  nomenclaturalStatus  taxonRemarks  recordedByID  \\\n0                   NaN                  NaN           NaN           NaN   \n1                   NaN                  NaN           NaN           NaN   \n2                   NaN                  NaN           NaN           NaN   \n3                   NaN                  NaN           NaN           NaN   \n4                   NaN                  NaN           NaN           NaN   \n...                 ...                  ...           ...           ...   \n435573              NaN                  NaN           NaN           NaN   \n435574              NaN                  NaN           NaN           NaN   \n435575              NaN                  NaN           NaN           NaN   \n435576              NaN                  NaN           NaN           NaN   \n435577              NaN                  NaN           NaN           NaN   \n\n        identifiedByID  \n0                  NaN  \n1                  NaN  \n2                  NaN  \n3                  NaN  \n4                  NaN  \n...                ...  \n435573             NaN  \n435574             NaN  \n435575             NaN  \n435576             NaN  \n435577             NaN  \n\n[435578 rows x 219 columns]",
      "text/html": "<div>\n<style scoped>\n    .dataframe tbody tr th:only-of-type {\n        vertical-align: middle;\n    }\n\n    .dataframe tbody tr th {\n        vertical-align: top;\n    }\n\n    .dataframe thead th {\n        text-align: right;\n    }\n</style>\n<table border=\"1\" class=\"dataframe\">\n  <thead>\n    <tr style=\"text-align: right;\">\n      <th></th>\n      <th>gbifID</th>\n      <th>abstract</th>\n      <th>accessRights</th>\n      <th>accrualMethod</th>\n      <th>accrualPeriodicity</th>\n      <th>accrualPolicy</th>\n      <th>alternative</th>\n      <th>audience</th>\n      <th>available</th>\n      <th>bibliographicCitation</th>\n      <th>...</th>\n      <th>taxonRank</th>\n      <th>verbatimTaxonRank</th>\n      <th>scientificNameAuthorship</th>\n      <th>vernacularName</th>\n      <th>nomenclaturalCode</th>\n      <th>taxonomicStatus</th>\n      <th>nomenclaturalStatus</th>\n      <th>taxonRemarks</th>\n      <th>recordedByID</th>\n      <th>identifiedByID</th>\n    </tr>\n  </thead>\n  <tbody>\n    <tr>\n      <th>0</th>\n      <td>2432439881</td>\n      <td>NaN</td>\n      <td>NaN</td>\n      <td>NaN</td>\n      <td>NaN</td>\n      <td>NaN</td>\n      <td>NaN</td>\n      <td>NaN</td>\n      <td>NaN</td>\n      <td>NaN</td>\n      <td>...</td>\n      <td>species</td>\n      <td>NaN</td>\n      <td>NaN</td>\n      <td>Siberian Rubythroat</td>\n      <td>ICZN</td>\n      <td>NaN</td>\n      <td>NaN</td>\n      <td>NaN</td>\n      <td>NaN</td>\n      <td>NaN</td>\n    </tr>\n    <tr>\n      <th>1</th>\n      <td>2432440798</td>\n      <td>NaN</td>\n      <td>NaN</td>\n      <td>NaN</td>\n      <td>NaN</td>\n      <td>NaN</td>\n      <td>NaN</td>\n      <td>NaN</td>\n      <td>NaN</td>\n      <td>NaN</td>\n      <td>...</td>\n      <td>species</td>\n      <td>NaN</td>\n      <td>NaN</td>\n      <td>Olive-backed Pipit</td>\n      <td>ICZN</td>\n      <td>NaN</td>\n      <td>NaN</td>\n      <td>NaN</td>\n      <td>NaN</td>\n      <td>NaN</td>\n    </tr>\n    <tr>\n      <th>2</th>\n      <td>2432439707</td>\n      <td>NaN</td>\n      <td>NaN</td>\n      <td>NaN</td>\n      <td>NaN</td>\n      <td>NaN</td>\n      <td>NaN</td>\n      <td>NaN</td>\n      <td>NaN</td>\n      <td>NaN</td>\n      <td>...</td>\n      <td>species</td>\n      <td>NaN</td>\n      <td>NaN</td>\n      <td>Arctic Warbler</td>\n      <td>ICZN</td>\n      <td>NaN</td>\n      <td>NaN</td>\n      <td>NaN</td>\n      <td>NaN</td>\n      <td>NaN</td>\n    </tr>\n    <tr>\n      <th>3</th>\n      <td>2432440942</td>\n      <td>NaN</td>\n      <td>NaN</td>\n      <td>NaN</td>\n      <td>NaN</td>\n      <td>NaN</td>\n      <td>NaN</td>\n      <td>NaN</td>\n      <td>NaN</td>\n      <td>NaN</td>\n      <td>...</td>\n      <td>species</td>\n      <td>NaN</td>\n      <td>NaN</td>\n      <td>Daurian Redstart</td>\n      <td>ICZN</td>\n      <td>NaN</td>\n      <td>NaN</td>\n      <td>NaN</td>\n      <td>NaN</td>\n      <td>NaN</td>\n    </tr>\n    <tr>\n      <th>4</th>\n      <td>2432440206</td>\n      <td>NaN</td>\n      <td>NaN</td>\n      <td>NaN</td>\n      <td>NaN</td>\n      <td>NaN</td>\n      <td>NaN</td>\n      <td>NaN</td>\n      <td>NaN</td>\n      <td>NaN</td>\n      <td>...</td>\n      <td>subspecies</td>\n      <td>NaN</td>\n      <td>NaN</td>\n      <td>Red Crossbill</td>\n      <td>ICZN</td>\n      <td>NaN</td>\n      <td>NaN</td>\n      <td>NaN</td>\n      <td>NaN</td>\n      <td>NaN</td>\n    </tr>\n    <tr>\n      <th>...</th>\n      <td>...</td>\n      <td>...</td>\n      <td>...</td>\n      <td>...</td>\n      <td>...</td>\n      <td>...</td>\n      <td>...</td>\n      <td>...</td>\n      <td>...</td>\n      <td>...</td>\n      <td>...</td>\n      <td>...</td>\n      <td>...</td>\n      <td>...</td>\n      <td>...</td>\n      <td>...</td>\n      <td>...</td>\n      <td>...</td>\n      <td>...</td>\n      <td>...</td>\n      <td>...</td>\n    </tr>\n    <tr>\n      <th>435573</th>\n      <td>2432439860</td>\n      <td>NaN</td>\n      <td>NaN</td>\n      <td>NaN</td>\n      <td>NaN</td>\n      <td>NaN</td>\n      <td>NaN</td>\n      <td>NaN</td>\n      <td>NaN</td>\n      <td>NaN</td>\n      <td>...</td>\n      <td>species</td>\n      <td>NaN</td>\n      <td>NaN</td>\n      <td>Common Snipe</td>\n      <td>ICZN</td>\n      <td>NaN</td>\n      <td>NaN</td>\n      <td>NaN</td>\n      <td>NaN</td>\n      <td>NaN</td>\n    </tr>\n    <tr>\n      <th>435574</th>\n      <td>2432439243</td>\n      <td>NaN</td>\n      <td>NaN</td>\n      <td>NaN</td>\n      <td>NaN</td>\n      <td>NaN</td>\n      <td>NaN</td>\n      <td>NaN</td>\n      <td>NaN</td>\n      <td>NaN</td>\n      <td>...</td>\n      <td>species</td>\n      <td>NaN</td>\n      <td>NaN</td>\n      <td>Pine Bunting</td>\n      <td>ICZN</td>\n      <td>NaN</td>\n      <td>NaN</td>\n      <td>NaN</td>\n      <td>NaN</td>\n      <td>NaN</td>\n    </tr>\n    <tr>\n      <th>435575</th>\n      <td>2432439694</td>\n      <td>NaN</td>\n      <td>NaN</td>\n      <td>NaN</td>\n      <td>NaN</td>\n      <td>NaN</td>\n      <td>NaN</td>\n      <td>NaN</td>\n      <td>NaN</td>\n      <td>NaN</td>\n      <td>...</td>\n      <td>species</td>\n      <td>NaN</td>\n      <td>NaN</td>\n      <td>Eurasian Tree Sparrow</td>\n      <td>ICZN</td>\n      <td>NaN</td>\n      <td>NaN</td>\n      <td>NaN</td>\n      <td>NaN</td>\n      <td>NaN</td>\n    </tr>\n    <tr>\n      <th>435576</th>\n      <td>2432439085</td>\n      <td>NaN</td>\n      <td>NaN</td>\n      <td>NaN</td>\n      <td>NaN</td>\n      <td>NaN</td>\n      <td>NaN</td>\n      <td>NaN</td>\n      <td>NaN</td>\n      <td>NaN</td>\n      <td>...</td>\n      <td>species</td>\n      <td>NaN</td>\n      <td>NaN</td>\n      <td>Olive-backed Pipit</td>\n      <td>ICZN</td>\n      <td>NaN</td>\n      <td>NaN</td>\n      <td>NaN</td>\n      <td>NaN</td>\n      <td>NaN</td>\n    </tr>\n    <tr>\n      <th>435577</th>\n      <td>2432439499</td>\n      <td>NaN</td>\n      <td>NaN</td>\n      <td>NaN</td>\n      <td>NaN</td>\n      <td>NaN</td>\n      <td>NaN</td>\n      <td>NaN</td>\n      <td>NaN</td>\n      <td>NaN</td>\n      <td>...</td>\n      <td>species</td>\n      <td>NaN</td>\n      <td>NaN</td>\n      <td>Yellow-browed Bunting</td>\n      <td>ICZN</td>\n      <td>NaN</td>\n      <td>NaN</td>\n      <td>NaN</td>\n      <td>NaN</td>\n      <td>NaN</td>\n    </tr>\n  </tbody>\n</table>\n<p>435578 rows × 219 columns</p>\n</div>"
     },
     "metadata": {},
     "execution_count": 26
    }
   ],
   "source": [
    "verbatim_df"
   ]
  },
  {
   "cell_type": "code",
   "execution_count": 27,
   "metadata": {},
   "outputs": [],
   "source": [
    "verbatim_df['vernacularName'] = verbatim_df['vernacularName'].fillna('Unkown').str.lower()\n",
    "\n",
    "grouped_common_name = occurrence_df.groupby(['vernacularName']) #group samples of each "
   ]
  },
  {
   "cell_type": "code",
   "execution_count": 28,
   "metadata": {},
   "outputs": [
    {
     "output_type": "stream",
     "name": "stdout",
     "text": "Frequency of unique values of the said array:\n[[   1    2    4]\n [9742  110    1]]\n"
    }
   ],
   "source": [
    "species_arr = []\n",
    "for name, samples in grouped_common_name:\n",
    "    sample_ids = samples['gbifID']\n",
    "\n",
    "    species_in_samples = occurrence_df[occurrence_df['gbifID'].isin(sample_ids)]\n",
    "\n",
    "    species_arr.append(len(species_in_samples['species'].unique()))\n",
    "\n",
    "unique_elements, counts_elements = np.unique(species_arr, return_counts=True)\n",
    "print(\"Frequency of unique values of the said array:\")\n",
    "print(np.asarray((unique_elements, counts_elements)))\n"
   ]
  },
  {
   "cell_type": "code",
   "execution_count": 30,
   "metadata": {},
   "outputs": [
    {
     "output_type": "execute_result",
     "data": {
      "text/plain": "soundscape                         7246\nidentity unknown                   5000\ngreat tit                          4466\ncommon blackbird                   3295\ncommon chaffinch                   3242\n                                   ... \njamaican lizard cuckoo                1\nbrown-backed flowerpecker             1\ngreat-billed kingfisher               1\ncalabrian speckled bush-cricket       1\npinsker's hawk-eagle                  1\nName: vernacularName, Length: 9849, dtype: int64"
     },
     "metadata": {},
     "execution_count": 30
    }
   ],
   "source": [
    "verbatim_df['vernacularName'].value_counts()"
   ]
  },
  {
   "cell_type": "code",
   "execution_count": 31,
   "metadata": {},
   "outputs": [
    {
     "output_type": "execute_result",
     "data": {
      "text/plain": "species       344525\nsubspecies     91048\nName: taxonRank, dtype: int64"
     },
     "metadata": {},
     "execution_count": 31
    }
   ],
   "source": [
    "verbatim_df['taxonRank'].value_counts()"
   ]
  },
  {
   "cell_type": "code",
   "execution_count": 32,
   "metadata": {},
   "outputs": [],
   "source": [
    "multimedia_df = pd.read_csv(os.path.join(gbif_path, 'multimedia.txt'), sep = '\\t')"
   ]
  },
  {
   "cell_type": "code",
   "execution_count": 33,
   "metadata": {},
   "outputs": [
    {
     "output_type": "execute_result",
     "data": {
      "text/plain": "            gbifID        type      format  \\\n0       2243549888  StillImage   image/png   \n1       2243549888       Sound  audio/mpeg   \n2       2243549893       Sound  audio/mpeg   \n3       2243549893  StillImage   image/png   \n4       2243549898       Sound  audio/mpeg   \n...            ...         ...         ...   \n871717  2609693247  StillImage   image/png   \n871718  2609693252  StillImage   image/png   \n871719  2609693252       Sound  audio/mpeg   \n871720  2609693257  StillImage   image/png   \n871721  2609693257       Sound  audio/mpeg   \n\n                                               identifier  references  title  \\\n0       https://www.xeno-canto.org/sounds/uploaded/ZNC...         NaN    NaN   \n1       https://www.xeno-canto.org/sounds/uploaded/ZNC...         NaN    NaN   \n2       https://www.xeno-canto.org/sounds/uploaded/ZNC...         NaN    NaN   \n3       https://www.xeno-canto.org/sounds/uploaded/ZNC...         NaN    NaN   \n4       https://www.xeno-canto.org/sounds/uploaded/PWD...         NaN    NaN   \n...                                                   ...         ...    ...   \n871717  https://www.xeno-canto.org/sounds/uploaded/AZX...         NaN    NaN   \n871718  https://www.xeno-canto.org/sounds/uploaded/AZX...         NaN    NaN   \n871719  https://www.xeno-canto.org/sounds/uploaded/AZX...         NaN    NaN   \n871720  https://www.xeno-canto.org/sounds/uploaded/AZX...         NaN    NaN   \n871721  https://www.xeno-canto.org/sounds/uploaded/AZX...         NaN    NaN   \n\n                                              description  source  audience  \\\n0       Sonogram of the first ten seconds of the sound...     NaN       NaN   \n1                                                   141 s     NaN       NaN   \n2                                                   115 s     NaN       NaN   \n3       Sonogram of the first ten seconds of the sound...     NaN       NaN   \n4                                                    34 s     NaN       NaN   \n...                                                   ...     ...       ...   \n871717  Sonogram of the first ten seconds of the sound...     NaN       NaN   \n871718  Sonogram of the first ten seconds of the sound...     NaN       NaN   \n871719                                                4 s     NaN       NaN   \n871720  Sonogram of the first ten seconds of the sound...     NaN       NaN   \n871721                                               24 s     NaN       NaN   \n\n        created                                   creator  contributor  \\\n0           NaN  Stichting Xeno-canto voor Natuurgeluiden          NaN   \n1           NaN                            Jarek Matusiak          NaN   \n2           NaN                            Jarek Matusiak          NaN   \n3           NaN  Stichting Xeno-canto voor Natuurgeluiden          NaN   \n4           NaN                               Mike Nelson          NaN   \n...         ...                                       ...          ...   \n871717      NaN  Stichting Xeno-canto voor Natuurgeluiden          NaN   \n871718      NaN  Stichting Xeno-canto voor Natuurgeluiden          NaN   \n871719      NaN                         Allen T. Chartier          NaN   \n871720      NaN  Stichting Xeno-canto voor Natuurgeluiden          NaN   \n871721      NaN                         Allen T. Chartier          NaN   \n\n        publisher                                            license  \\\n0             NaN  http://creativecommons.org/licenses/by-nc-nd/2.5/   \n1             NaN  http://creativecommons.org/licenses/by-nc-nd/2.5/   \n2             NaN  http://creativecommons.org/licenses/by-nc-nd/2.5/   \n3             NaN  http://creativecommons.org/licenses/by-nc-nd/2.5/   \n4             NaN  http://creativecommons.org/licenses/by-nc-nd/2.5/   \n...           ...                                                ...   \n871717        NaN  http://creativecommons.org/licenses/by-nc-sa/3.0/   \n871718        NaN  http://creativecommons.org/licenses/by-nc-sa/3.0/   \n871719        NaN  http://creativecommons.org/licenses/by-nc-sa/3.0/   \n871720        NaN  http://creativecommons.org/licenses/by-nc-sa/3.0/   \n871721        NaN  http://creativecommons.org/licenses/by-nc-sa/3.0/   \n\n                                    rightsHolder  \n0       Stichting Xeno-canto voor Natuurgeluiden  \n1                                 Jarek Matusiak  \n2                                 Jarek Matusiak  \n3       Stichting Xeno-canto voor Natuurgeluiden  \n4                                    Mike Nelson  \n...                                          ...  \n871717  Stichting Xeno-canto voor Natuurgeluiden  \n871718  Stichting Xeno-canto voor Natuurgeluiden  \n871719                         Allen T. Chartier  \n871720  Stichting Xeno-canto voor Natuurgeluiden  \n871721                         Allen T. Chartier  \n\n[871722 rows x 15 columns]",
      "text/html": "<div>\n<style scoped>\n    .dataframe tbody tr th:only-of-type {\n        vertical-align: middle;\n    }\n\n    .dataframe tbody tr th {\n        vertical-align: top;\n    }\n\n    .dataframe thead th {\n        text-align: right;\n    }\n</style>\n<table border=\"1\" class=\"dataframe\">\n  <thead>\n    <tr style=\"text-align: right;\">\n      <th></th>\n      <th>gbifID</th>\n      <th>type</th>\n      <th>format</th>\n      <th>identifier</th>\n      <th>references</th>\n      <th>title</th>\n      <th>description</th>\n      <th>source</th>\n      <th>audience</th>\n      <th>created</th>\n      <th>creator</th>\n      <th>contributor</th>\n      <th>publisher</th>\n      <th>license</th>\n      <th>rightsHolder</th>\n    </tr>\n  </thead>\n  <tbody>\n    <tr>\n      <th>0</th>\n      <td>2243549888</td>\n      <td>StillImage</td>\n      <td>image/png</td>\n      <td>https://www.xeno-canto.org/sounds/uploaded/ZNC...</td>\n      <td>NaN</td>\n      <td>NaN</td>\n      <td>Sonogram of the first ten seconds of the sound...</td>\n      <td>NaN</td>\n      <td>NaN</td>\n      <td>NaN</td>\n      <td>Stichting Xeno-canto voor Natuurgeluiden</td>\n      <td>NaN</td>\n      <td>NaN</td>\n      <td>http://creativecommons.org/licenses/by-nc-nd/2.5/</td>\n      <td>Stichting Xeno-canto voor Natuurgeluiden</td>\n    </tr>\n    <tr>\n      <th>1</th>\n      <td>2243549888</td>\n      <td>Sound</td>\n      <td>audio/mpeg</td>\n      <td>https://www.xeno-canto.org/sounds/uploaded/ZNC...</td>\n      <td>NaN</td>\n      <td>NaN</td>\n      <td>141 s</td>\n      <td>NaN</td>\n      <td>NaN</td>\n      <td>NaN</td>\n      <td>Jarek Matusiak</td>\n      <td>NaN</td>\n      <td>NaN</td>\n      <td>http://creativecommons.org/licenses/by-nc-nd/2.5/</td>\n      <td>Jarek Matusiak</td>\n    </tr>\n    <tr>\n      <th>2</th>\n      <td>2243549893</td>\n      <td>Sound</td>\n      <td>audio/mpeg</td>\n      <td>https://www.xeno-canto.org/sounds/uploaded/ZNC...</td>\n      <td>NaN</td>\n      <td>NaN</td>\n      <td>115 s</td>\n      <td>NaN</td>\n      <td>NaN</td>\n      <td>NaN</td>\n      <td>Jarek Matusiak</td>\n      <td>NaN</td>\n      <td>NaN</td>\n      <td>http://creativecommons.org/licenses/by-nc-nd/2.5/</td>\n      <td>Jarek Matusiak</td>\n    </tr>\n    <tr>\n      <th>3</th>\n      <td>2243549893</td>\n      <td>StillImage</td>\n      <td>image/png</td>\n      <td>https://www.xeno-canto.org/sounds/uploaded/ZNC...</td>\n      <td>NaN</td>\n      <td>NaN</td>\n      <td>Sonogram of the first ten seconds of the sound...</td>\n      <td>NaN</td>\n      <td>NaN</td>\n      <td>NaN</td>\n      <td>Stichting Xeno-canto voor Natuurgeluiden</td>\n      <td>NaN</td>\n      <td>NaN</td>\n      <td>http://creativecommons.org/licenses/by-nc-nd/2.5/</td>\n      <td>Stichting Xeno-canto voor Natuurgeluiden</td>\n    </tr>\n    <tr>\n      <th>4</th>\n      <td>2243549898</td>\n      <td>Sound</td>\n      <td>audio/mpeg</td>\n      <td>https://www.xeno-canto.org/sounds/uploaded/PWD...</td>\n      <td>NaN</td>\n      <td>NaN</td>\n      <td>34 s</td>\n      <td>NaN</td>\n      <td>NaN</td>\n      <td>NaN</td>\n      <td>Mike Nelson</td>\n      <td>NaN</td>\n      <td>NaN</td>\n      <td>http://creativecommons.org/licenses/by-nc-nd/2.5/</td>\n      <td>Mike Nelson</td>\n    </tr>\n    <tr>\n      <th>...</th>\n      <td>...</td>\n      <td>...</td>\n      <td>...</td>\n      <td>...</td>\n      <td>...</td>\n      <td>...</td>\n      <td>...</td>\n      <td>...</td>\n      <td>...</td>\n      <td>...</td>\n      <td>...</td>\n      <td>...</td>\n      <td>...</td>\n      <td>...</td>\n      <td>...</td>\n    </tr>\n    <tr>\n      <th>871717</th>\n      <td>2609693247</td>\n      <td>StillImage</td>\n      <td>image/png</td>\n      <td>https://www.xeno-canto.org/sounds/uploaded/AZX...</td>\n      <td>NaN</td>\n      <td>NaN</td>\n      <td>Sonogram of the first ten seconds of the sound...</td>\n      <td>NaN</td>\n      <td>NaN</td>\n      <td>NaN</td>\n      <td>Stichting Xeno-canto voor Natuurgeluiden</td>\n      <td>NaN</td>\n      <td>NaN</td>\n      <td>http://creativecommons.org/licenses/by-nc-sa/3.0/</td>\n      <td>Stichting Xeno-canto voor Natuurgeluiden</td>\n    </tr>\n    <tr>\n      <th>871718</th>\n      <td>2609693252</td>\n      <td>StillImage</td>\n      <td>image/png</td>\n      <td>https://www.xeno-canto.org/sounds/uploaded/AZX...</td>\n      <td>NaN</td>\n      <td>NaN</td>\n      <td>Sonogram of the first ten seconds of the sound...</td>\n      <td>NaN</td>\n      <td>NaN</td>\n      <td>NaN</td>\n      <td>Stichting Xeno-canto voor Natuurgeluiden</td>\n      <td>NaN</td>\n      <td>NaN</td>\n      <td>http://creativecommons.org/licenses/by-nc-sa/3.0/</td>\n      <td>Stichting Xeno-canto voor Natuurgeluiden</td>\n    </tr>\n    <tr>\n      <th>871719</th>\n      <td>2609693252</td>\n      <td>Sound</td>\n      <td>audio/mpeg</td>\n      <td>https://www.xeno-canto.org/sounds/uploaded/AZX...</td>\n      <td>NaN</td>\n      <td>NaN</td>\n      <td>4 s</td>\n      <td>NaN</td>\n      <td>NaN</td>\n      <td>NaN</td>\n      <td>Allen T. Chartier</td>\n      <td>NaN</td>\n      <td>NaN</td>\n      <td>http://creativecommons.org/licenses/by-nc-sa/3.0/</td>\n      <td>Allen T. Chartier</td>\n    </tr>\n    <tr>\n      <th>871720</th>\n      <td>2609693257</td>\n      <td>StillImage</td>\n      <td>image/png</td>\n      <td>https://www.xeno-canto.org/sounds/uploaded/AZX...</td>\n      <td>NaN</td>\n      <td>NaN</td>\n      <td>Sonogram of the first ten seconds of the sound...</td>\n      <td>NaN</td>\n      <td>NaN</td>\n      <td>NaN</td>\n      <td>Stichting Xeno-canto voor Natuurgeluiden</td>\n      <td>NaN</td>\n      <td>NaN</td>\n      <td>http://creativecommons.org/licenses/by-nc-sa/3.0/</td>\n      <td>Stichting Xeno-canto voor Natuurgeluiden</td>\n    </tr>\n    <tr>\n      <th>871721</th>\n      <td>2609693257</td>\n      <td>Sound</td>\n      <td>audio/mpeg</td>\n      <td>https://www.xeno-canto.org/sounds/uploaded/AZX...</td>\n      <td>NaN</td>\n      <td>NaN</td>\n      <td>24 s</td>\n      <td>NaN</td>\n      <td>NaN</td>\n      <td>NaN</td>\n      <td>Allen T. Chartier</td>\n      <td>NaN</td>\n      <td>NaN</td>\n      <td>http://creativecommons.org/licenses/by-nc-sa/3.0/</td>\n      <td>Allen T. Chartier</td>\n    </tr>\n  </tbody>\n</table>\n<p>871722 rows × 15 columns</p>\n</div>"
     },
     "metadata": {},
     "execution_count": 33
    }
   ],
   "source": [
    "multimedia_df"
   ]
  },
  {
   "cell_type": "code",
   "execution_count": 34,
   "metadata": {},
   "outputs": [
    {
     "output_type": "execute_result",
     "data": {
      "text/plain": "array(['audio/mpeg'], dtype=object)"
     },
     "metadata": {},
     "execution_count": 34
    }
   ],
   "source": [
    "desc_df = multimedia_df.loc[multimedia_df['format'] == 'audio/mpeg']\n",
    "desc_df['format'].unique()"
   ]
  }
 ],
 "metadata": {
  "language_info": {
   "codemirror_mode": {
    "name": "ipython",
    "version": 3
   },
   "file_extension": ".py",
   "mimetype": "text/x-python",
   "name": "python",
   "nbconvert_exporter": "python",
   "pygments_lexer": "ipython3",
   "version": "3.7.7-final"
  },
  "orig_nbformat": 2,
  "kernelspec": {
   "name": "python37764bitpytenvconda3dfa103189494c5294ee424d28ed2452",
   "display_name": "Python 3.7.7 64-bit ('PYTenv': conda)"
  }
 },
 "nbformat": 4,
 "nbformat_minor": 2
}